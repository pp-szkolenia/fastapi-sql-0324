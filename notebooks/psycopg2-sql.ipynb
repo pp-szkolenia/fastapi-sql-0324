{
 "cells": [
  {
   "cell_type": "code",
   "execution_count": 1,
   "id": "82d9b1d5-b4d5-4785-bc14-3c5a5762b911",
   "metadata": {},
   "outputs": [],
   "source": [
    "import psycopg2"
   ]
  },
  {
   "cell_type": "code",
   "execution_count": 2,
   "id": "5fdb3c1d-7fb1-4674-bb78-2b11e5ebd091",
   "metadata": {},
   "outputs": [],
   "source": [
    "conn = psycopg2.connect(dbname=\"postgres\", user=\"postgres\", password=\"postgres\", host='localhost')"
   ]
  },
  {
   "cell_type": "code",
   "execution_count": 3,
   "id": "ec518db3-1879-44dd-bb88-b4fa90cb5a6d",
   "metadata": {},
   "outputs": [],
   "source": [
    "cursor = conn.cursor()"
   ]
  },
  {
   "cell_type": "code",
   "execution_count": 4,
   "id": "c7d15eb1-e511-4cf5-990e-1dafc4b2e974",
   "metadata": {},
   "outputs": [],
   "source": [
    "create_query = \"\"\"CREATE TABLE tasks(\n",
    "    id SERIAL,\n",
    "    description TEXT,\n",
    "    priority SMALLINT,\n",
    "    is_complete BOOLEAN\n",
    ")\n",
    "\"\"\""
   ]
  },
  {
   "cell_type": "code",
   "execution_count": 5,
   "id": "9e86774f-c850-4e12-98f1-354d6d03e31f",
   "metadata": {},
   "outputs": [],
   "source": [
    "cursor.execute(create_query)"
   ]
  },
  {
   "cell_type": "code",
   "execution_count": 6,
   "id": "2c0c9d0e-a88c-44af-b968-775e432e5de4",
   "metadata": {},
   "outputs": [],
   "source": [
    "conn.commit()"
   ]
  },
  {
   "cell_type": "code",
   "execution_count": 14,
   "id": "95c62f4e-99f7-46ba-a40e-615ffcaab0a4",
   "metadata": {},
   "outputs": [],
   "source": [
    "insert_query = \"\"\"INSERT INTO tasks(description, priority, is_complete) VALUES ('Ostatnie zadanie', 0, false)\n",
    "\"\"\""
   ]
  },
  {
   "cell_type": "code",
   "execution_count": 15,
   "id": "e817697e-bf3a-40c2-9ea9-cd44139b256e",
   "metadata": {},
   "outputs": [],
   "source": [
    "cursor.execute(insert_query)"
   ]
  },
  {
   "cell_type": "code",
   "execution_count": null,
   "id": "83d7cc4a-4474-468f-b228-6d355bf5ceb4",
   "metadata": {},
   "outputs": [],
   "source": []
  },
  {
   "cell_type": "code",
   "execution_count": 16,
   "id": "ba9dc414-42a6-4368-bddc-e3b436a3e5a6",
   "metadata": {},
   "outputs": [],
   "source": [
    "conn.commit()"
   ]
  },
  {
   "cell_type": "markdown",
   "id": "001e923b-00f5-4b71-92a7-bb911e8892b1",
   "metadata": {},
   "source": [
    "---"
   ]
  },
  {
   "cell_type": "code",
   "execution_count": 30,
   "id": "1169c930-c52d-45ed-98ae-254f417f1954",
   "metadata": {},
   "outputs": [],
   "source": [
    "select_query = \"SELECT * FROM tasks\""
   ]
  },
  {
   "cell_type": "code",
   "execution_count": 31,
   "id": "5e70440d-610f-4570-9088-f9c0354e2cff",
   "metadata": {},
   "outputs": [],
   "source": [
    "cursor.execute(select_query)"
   ]
  },
  {
   "cell_type": "code",
   "execution_count": 28,
   "id": "2ea3fdd5-e236-417a-b314-55248b9d7199",
   "metadata": {},
   "outputs": [],
   "source": [
    "cursor.fetchone()"
   ]
  },
  {
   "cell_type": "code",
   "execution_count": 32,
   "id": "9b6b8c02-a3bc-4ff0-ad70-d3bb66052807",
   "metadata": {},
   "outputs": [
    {
     "data": {
      "text/plain": [
       "[(1, 'Opis zadania', 2, False),\n",
       " (2, 'Nowe zadanie', 1, True),\n",
       " (3, 'Nowe zadanie', 1, True),\n",
       " (4, 'Nowe zadanie 123', 31, False),\n",
       " (5, 'Ostatnie zadanie', 0, False)]"
      ]
     },
     "execution_count": 32,
     "metadata": {},
     "output_type": "execute_result"
    }
   ],
   "source": [
    "cursor.fetchall()"
   ]
  },
  {
   "cell_type": "code",
   "execution_count": null,
   "id": "4ffc1ba5-44f9-44e8-b427-dde243fd4507",
   "metadata": {},
   "outputs": [],
   "source": []
  }
 ],
 "metadata": {
  "kernelspec": {
   "display_name": "Python 3 (ipykernel)",
   "language": "python",
   "name": "python3"
  },
  "language_info": {
   "codemirror_mode": {
    "name": "ipython",
    "version": 3
   },
   "file_extension": ".py",
   "mimetype": "text/x-python",
   "name": "python",
   "nbconvert_exporter": "python",
   "pygments_lexer": "ipython3",
   "version": "3.11.5"
  }
 },
 "nbformat": 4,
 "nbformat_minor": 5
}
