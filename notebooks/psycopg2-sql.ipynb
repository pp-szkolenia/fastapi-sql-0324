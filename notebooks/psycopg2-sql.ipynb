{
 "cells": [
  {
   "cell_type": "code",
   "execution_count": 1,
   "id": "82d9b1d5-b4d5-4785-bc14-3c5a5762b911",
   "metadata": {},
   "outputs": [],
   "source": [
    "import psycopg2"
   ]
  },
  {
   "cell_type": "code",
   "execution_count": 2,
   "id": "5fdb3c1d-7fb1-4674-bb78-2b11e5ebd091",
   "metadata": {},
   "outputs": [],
   "source": [
    "conn = psycopg2.connect(dbname=\"postgres\", user=\"postgres\", password=\"postgres\", host='localhost')"
   ]
  },
  {
   "cell_type": "code",
   "execution_count": 3,
   "id": "ec518db3-1879-44dd-bb88-b4fa90cb5a6d",
   "metadata": {},
   "outputs": [],
   "source": [
    "cursor = conn.cursor()"
   ]
  },
  {
   "cell_type": "code",
   "execution_count": 4,
   "id": "c7d15eb1-e511-4cf5-990e-1dafc4b2e974",
   "metadata": {},
   "outputs": [],
   "source": [
    "create_query = \"\"\"CREATE TABLE tasks(\n",
    "    id SERIAL,\n",
    "    description TEXT,\n",
    "    priority SMALLINT,\n",
    "    is_complete BOOLEAN\n",
    ")\n",
    "\"\"\""
   ]
  },
  {
   "cell_type": "code",
   "execution_count": 67,
   "id": "62234663-5dc0-40a3-94e2-fab31897261a",
   "metadata": {},
   "outputs": [],
   "source": [
    "create_query = \"\"\"CREATE TABLE users(\n",
    "    id SERIAL,\n",
    "    username TEXT,\n",
    "    password TEXT,\n",
    "    is_admin BOOLEAN\n",
    ")\n",
    "\"\"\""
   ]
  },
  {
   "cell_type": "code",
   "execution_count": 68,
   "id": "9e86774f-c850-4e12-98f1-354d6d03e31f",
   "metadata": {},
   "outputs": [],
   "source": [
    "cursor.execute(create_query)"
   ]
  },
  {
   "cell_type": "code",
   "execution_count": 69,
   "id": "2c0c9d0e-a88c-44af-b968-775e432e5de4",
   "metadata": {},
   "outputs": [],
   "source": [
    "conn.commit()"
   ]
  },
  {
   "cell_type": "code",
   "execution_count": 14,
   "id": "95c62f4e-99f7-46ba-a40e-615ffcaab0a4",
   "metadata": {},
   "outputs": [],
   "source": [
    "insert_query = \"\"\"INSERT INTO tasks(description, priority, is_complete) VALUES ('Ostatnie zadanie', 0, false)\n",
    "\"\"\""
   ]
  },
  {
   "cell_type": "code",
   "execution_count": 15,
   "id": "e817697e-bf3a-40c2-9ea9-cd44139b256e",
   "metadata": {},
   "outputs": [],
   "source": [
    "cursor.execute(insert_query)"
   ]
  },
  {
   "cell_type": "code",
   "execution_count": null,
   "id": "83d7cc4a-4474-468f-b228-6d355bf5ceb4",
   "metadata": {},
   "outputs": [],
   "source": []
  },
  {
   "cell_type": "code",
   "execution_count": 16,
   "id": "ba9dc414-42a6-4368-bddc-e3b436a3e5a6",
   "metadata": {},
   "outputs": [],
   "source": [
    "conn.commit()"
   ]
  },
  {
   "cell_type": "markdown",
   "id": "001e923b-00f5-4b71-92a7-bb911e8892b1",
   "metadata": {},
   "source": [
    "---"
   ]
  },
  {
   "cell_type": "code",
   "execution_count": 30,
   "id": "1169c930-c52d-45ed-98ae-254f417f1954",
   "metadata": {},
   "outputs": [],
   "source": [
    "select_query = \"SELECT * FROM tasks\""
   ]
  },
  {
   "cell_type": "code",
   "execution_count": 31,
   "id": "5e70440d-610f-4570-9088-f9c0354e2cff",
   "metadata": {},
   "outputs": [],
   "source": [
    "cursor.execute(select_query)"
   ]
  },
  {
   "cell_type": "code",
   "execution_count": 28,
   "id": "2ea3fdd5-e236-417a-b314-55248b9d7199",
   "metadata": {},
   "outputs": [],
   "source": [
    "cursor.fetchone()"
   ]
  },
  {
   "cell_type": "code",
   "execution_count": 32,
   "id": "9b6b8c02-a3bc-4ff0-ad70-d3bb66052807",
   "metadata": {},
   "outputs": [
    {
     "data": {
      "text/plain": [
       "[(1, 'Opis zadania', 2, False),\n",
       " (2, 'Nowe zadanie', 1, True),\n",
       " (3, 'Nowe zadanie', 1, True),\n",
       " (4, 'Nowe zadanie 123', 31, False),\n",
       " (5, 'Ostatnie zadanie', 0, False)]"
      ]
     },
     "execution_count": 32,
     "metadata": {},
     "output_type": "execute_result"
    }
   ],
   "source": [
    "cursor.fetchall()"
   ]
  },
  {
   "cell_type": "markdown",
   "id": "8681f769-07ea-4ccc-9e29-158c264cdb8c",
   "metadata": {},
   "source": [
    "---"
   ]
  },
  {
   "cell_type": "code",
   "execution_count": 44,
   "id": "4ffc1ba5-44f9-44e8-b427-dde243fd4507",
   "metadata": {},
   "outputs": [],
   "source": [
    "insert_query = \"\"\"INSERT INTO tasks(description, priority, is_complete) VALUES ('sfsfsdfsdfds', 1234, false)\n",
    "                  RETURNING id \"\"\""
   ]
  },
  {
   "cell_type": "code",
   "execution_count": 45,
   "id": "5d979c59-1db5-42df-b586-c8872d5e0b09",
   "metadata": {},
   "outputs": [],
   "source": [
    "cursor.execute(insert_query)"
   ]
  },
  {
   "cell_type": "code",
   "execution_count": 46,
   "id": "868ffe5f-a3b2-48be-9e73-4080f6b59ff1",
   "metadata": {},
   "outputs": [],
   "source": [
    "record = cursor.fetchone()"
   ]
  },
  {
   "cell_type": "code",
   "execution_count": 47,
   "id": "d3365afb-84cc-4270-8619-809f2feb418a",
   "metadata": {},
   "outputs": [
    {
     "data": {
      "text/plain": [
       "(7,)"
      ]
     },
     "execution_count": 47,
     "metadata": {},
     "output_type": "execute_result"
    }
   ],
   "source": [
    "record"
   ]
  },
  {
   "cell_type": "code",
   "execution_count": 42,
   "id": "06604a1a-df29-4621-8601-fb767b7fc635",
   "metadata": {},
   "outputs": [],
   "source": [
    "conn.commit()"
   ]
  },
  {
   "cell_type": "markdown",
   "id": "d6d1fcc7-efad-4050-8128-f8888adbf96d",
   "metadata": {},
   "source": [
    "---"
   ]
  },
  {
   "cell_type": "code",
   "execution_count": 49,
   "id": "45128c7e-d6db-4a5a-a489-1ac048b7a986",
   "metadata": {},
   "outputs": [],
   "source": [
    "id_number = \"1\""
   ]
  },
  {
   "cell_type": "code",
   "execution_count": 50,
   "id": "d0a17304-080c-4590-8b7e-224e130c463e",
   "metadata": {},
   "outputs": [],
   "source": [
    "query = f\"UPDATE tasks SET priority = 9 WHERE id = {id_number}\""
   ]
  },
  {
   "cell_type": "code",
   "execution_count": 51,
   "id": "7b65fcb8-4817-40c7-b63d-c17a1d9837c5",
   "metadata": {},
   "outputs": [],
   "source": [
    "cursor.execute(query)"
   ]
  },
  {
   "cell_type": "code",
   "execution_count": 52,
   "id": "4ee7c2a3-2e28-4f70-86a5-72b8a9c31c7e",
   "metadata": {},
   "outputs": [],
   "source": [
    "conn.commit()"
   ]
  },
  {
   "cell_type": "markdown",
   "id": "6e237881-7def-465f-b62d-96c2c2ab0b9f",
   "metadata": {},
   "source": [
    "---"
   ]
  },
  {
   "cell_type": "code",
   "execution_count": 64,
   "id": "499200ee-4165-47ae-80b6-3cbfbfab887d",
   "metadata": {},
   "outputs": [],
   "source": [
    "id_number = \"1; DROP TABLE users;\""
   ]
  },
  {
   "cell_type": "code",
   "execution_count": 65,
   "id": "fbf35ef7-13cc-4062-88e1-da9d64137517",
   "metadata": {},
   "outputs": [],
   "source": [
    "query = f\"UPDATE tasks SET priority = 12 WHERE id = {id_number}\""
   ]
  },
  {
   "cell_type": "markdown",
   "id": "9900eda1-9c7e-4856-8dd8-04770bf25b60",
   "metadata": {},
   "source": [
    "```sql\n",
    "UPDATE tasks SET priority = 12 WHERE id = 1; DROP TABLE users;\n",
    "\n",
    "```"
   ]
  },
  {
   "cell_type": "code",
   "execution_count": 66,
   "id": "00c5a3cc-b4d5-4010-8066-992277555fcb",
   "metadata": {},
   "outputs": [],
   "source": [
    "cursor.execute(query)\n",
    "conn.commit()"
   ]
  },
  {
   "cell_type": "markdown",
   "id": "6c2f9d23-0a70-4ef2-b2bf-b9d2f6f720c5",
   "metadata": {},
   "source": [
    "---"
   ]
  },
  {
   "cell_type": "code",
   "execution_count": 86,
   "id": "89752674-3989-4999-9536-35809e6817ba",
   "metadata": {},
   "outputs": [],
   "source": [
    "id_number = \"1\""
   ]
  },
  {
   "cell_type": "code",
   "execution_count": 89,
   "id": "dcfefac6-4304-448b-899a-1404fa3bbf48",
   "metadata": {},
   "outputs": [],
   "source": [
    "query = \"UPDATE tasks SET priority=4 WHERE id = %s\""
   ]
  },
  {
   "cell_type": "code",
   "execution_count": 90,
   "id": "ac2747d9-8246-4943-8f7d-c19783c76e0a",
   "metadata": {},
   "outputs": [
    {
     "data": {
      "text/plain": [
       "\"UPDATE tasks SET priority=4 WHERE id = '1'\""
      ]
     },
     "execution_count": 90,
     "metadata": {},
     "output_type": "execute_result"
    }
   ],
   "source": [
    "cursor.mogrify(query, (id_number,)).decode()"
   ]
  },
  {
   "cell_type": "code",
   "execution_count": 93,
   "id": "ccfba5d2-35d6-47d2-87dd-19ce2f1eb72a",
   "metadata": {},
   "outputs": [],
   "source": [
    "cursor.execute(query, (id_number,))"
   ]
  },
  {
   "cell_type": "code",
   "execution_count": 94,
   "id": "1424fe25-9c34-4844-9d85-954047778960",
   "metadata": {},
   "outputs": [],
   "source": [
    "conn.commit()"
   ]
  },
  {
   "cell_type": "markdown",
   "id": "a4bc6083-d416-4027-b59e-a9bac6371233",
   "metadata": {},
   "source": [
    "---"
   ]
  },
  {
   "cell_type": "code",
   "execution_count": 81,
   "id": "dfe40fc2-3a82-4e44-b2ca-4d3e669f1b35",
   "metadata": {},
   "outputs": [],
   "source": [
    "id_number = \"1; DROP TABLE users\""
   ]
  },
  {
   "cell_type": "code",
   "execution_count": 82,
   "id": "55b5f8e5-6de5-4739-9c5a-6c5887a525ca",
   "metadata": {},
   "outputs": [],
   "source": [
    "query = \"UPDATE tasks SET priority=3 WHERE id = %s\""
   ]
  },
  {
   "cell_type": "code",
   "execution_count": 83,
   "id": "5b59a74a-4fc2-4c48-85da-9734e0ee3a5b",
   "metadata": {},
   "outputs": [
    {
     "ename": "InvalidTextRepresentation",
     "evalue": "invalid input syntax for type integer: \"1; DROP TABLE users\"\nLINE 1: UPDATE tasks SET priority=3 WHERE id = '1; DROP TABLE users'\n                                               ^\n",
     "output_type": "error",
     "traceback": [
      "\u001b[0;31m---------------------------------------------------------------------------\u001b[0m",
      "\u001b[0;31mInvalidTextRepresentation\u001b[0m                 Traceback (most recent call last)",
      "Cell \u001b[0;32mIn[83], line 1\u001b[0m\n\u001b[0;32m----> 1\u001b[0m cursor\u001b[38;5;241m.\u001b[39mexecute(query, (id_number,))\n",
      "\u001b[0;31mInvalidTextRepresentation\u001b[0m: invalid input syntax for type integer: \"1; DROP TABLE users\"\nLINE 1: UPDATE tasks SET priority=3 WHERE id = '1; DROP TABLE users'\n                                               ^\n"
     ]
    }
   ],
   "source": [
    "cursor.execute(query, (id_number,))"
   ]
  },
  {
   "cell_type": "code",
   "execution_count": 85,
   "id": "296228fd-f82a-4398-9b3e-d9d1761c6144",
   "metadata": {},
   "outputs": [
    {
     "data": {
      "text/plain": [
       "\"UPDATE tasks SET priority=3 WHERE id = '1; DROP TABLE users'\""
      ]
     },
     "execution_count": 85,
     "metadata": {},
     "output_type": "execute_result"
    }
   ],
   "source": [
    "cursor.mogrify(query, (id_number,)).decode()"
   ]
  },
  {
   "cell_type": "code",
   "execution_count": null,
   "id": "0a71ee8e-8dfd-49e8-80f2-87a4dcd9b324",
   "metadata": {},
   "outputs": [],
   "source": []
  }
 ],
 "metadata": {
  "kernelspec": {
   "display_name": "Python 3 (ipykernel)",
   "language": "python",
   "name": "python3"
  },
  "language_info": {
   "codemirror_mode": {
    "name": "ipython",
    "version": 3
   },
   "file_extension": ".py",
   "mimetype": "text/x-python",
   "name": "python",
   "nbconvert_exporter": "python",
   "pygments_lexer": "ipython3",
   "version": "3.11.5"
  }
 },
 "nbformat": 4,
 "nbformat_minor": 5
}
