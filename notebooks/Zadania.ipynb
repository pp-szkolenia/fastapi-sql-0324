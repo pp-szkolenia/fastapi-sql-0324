{
 "cells": [
  {
   "cell_type": "markdown",
   "id": "0c4f04ff-8429-41d6-9b7d-25f1553dbd88",
   "metadata": {},
   "source": [
    "### Psycopg2"
   ]
  },
  {
   "cell_type": "markdown",
   "id": "5d61096c-d9f0-4744-b432-9491f006d464",
   "metadata": {},
   "source": [
    "1. Wczytaj dane z pliku `cars.csv` i wyodrębnij z niego kolumny:\n",
    "   - `price`\n",
    "   - `brand`\n",
    "   - `fuel`\n",
    "   - `power`\n",
    "   - `prod_year`\n",
    "\n",
    "\n",
    "Następnie napisz zapytanie `CREATE`, które utworzy tabelę o takim samym schemacie + dodatkowa kolumna `id` typu `serial`. Wykonaj zapytanie za pomocą `psycopg2`\n",
    "\n",
    "---\n",
    "(czas: 16 min.)"
   ]
  },
  {
   "cell_type": "code",
   "execution_count": 8,
   "id": "5aacbb9f-e9bd-4bc2-8483-9b048d36ad08",
   "metadata": {},
   "outputs": [],
   "source": [
    "# ..."
   ]
  },
  {
   "cell_type": "markdown",
   "id": "992aa75f-c3d9-4063-a002-8e4e2f227352",
   "metadata": {},
   "source": [
    "2. Napisz kod, który na podstawie numeru indeksu wiersza dataframe'a, wyciągnie ten wiersz z tabeli, utworzy zapytanie `INSERT` a następnie wykona je na bazie.\n",
    "\n",
    "Podpowiedź:\n",
    "\n",
    "Poniższy kod zamieni typy danych w rekordzie z df-a z numpyowych na zwykłe. Będzie to przydatne podczas insertowania.\n",
    "\n",
    "`[x.item() if isinstance(x, np.generic) else x for x in record.values]`\n",
    "\n",
    "---\n",
    "\n",
    "(czas: 20 min.)"
   ]
  },
  {
   "cell_type": "code",
   "execution_count": 1,
   "id": "778104c4-a78d-4b0f-933d-999ab577ef8c",
   "metadata": {},
   "outputs": [],
   "source": [
    "# ..."
   ]
  },
  {
   "cell_type": "markdown",
   "id": "f92418a4-181f-49a6-a0bb-003b3f9f0565",
   "metadata": {},
   "source": [
    "3. Napisz funkcję, która przyjmie zapytanie typu `SELECT` i wykona je na bazie."
   ]
  },
  {
   "cell_type": "code",
   "execution_count": 7,
   "id": "c712f5be-6555-48cf-a595-3e0897478b70",
   "metadata": {},
   "outputs": [],
   "source": [
    "# ..."
   ]
  },
  {
   "cell_type": "markdown",
   "id": "ba85f1b8-ee2f-4dff-b8e4-9a50e31b339b",
   "metadata": {},
   "source": [
    "4. Napisz funkcję, która przyjmie `id` wiersza w tabeli, nazwę kolumny oraz nową wartość a następnie zupdatuje tabelę."
   ]
  },
  {
   "cell_type": "code",
   "execution_count": 5,
   "id": "d0ae761b-eb1a-48ea-aabf-cc6de2d72edf",
   "metadata": {},
   "outputs": [],
   "source": [
    "# ..."
   ]
  },
  {
   "cell_type": "markdown",
   "id": "6236825a-757a-4398-91f7-fe9e6a09c962",
   "metadata": {},
   "source": [
    "5. Napisz funkcję, która przyjmie `id` wiersza w tabeli a następnie go usunie."
   ]
  },
  {
   "cell_type": "code",
   "execution_count": 6,
   "id": "4eb8cbd3-7200-4526-a426-26acfce76dcc",
   "metadata": {},
   "outputs": [],
   "source": [
    "# ..."
   ]
  },
  {
   "cell_type": "markdown",
   "id": "9a071bb0-98cf-494f-b33a-92d4e80f6cd2",
   "metadata": {},
   "source": [
    "### SQLAlchemy"
   ]
  },
  {
   "cell_type": "markdown",
   "id": "2eb5af51-52c6-4620-8b4c-2eaa86b863f0",
   "metadata": {},
   "source": [
    "1. Utwórz klasę odpowiadającą tabeli `cars` a następnie samą tabelę za pomocą `SQLAlchemy`.\n",
    "\n",
    "\n",
    "---\n",
    "(czas: 16 min.)"
   ]
  },
  {
   "cell_type": "code",
   "execution_count": 2,
   "id": "f84de049-1f9c-44cb-a3e0-3b444790224f",
   "metadata": {},
   "outputs": [],
   "source": [
    "# ..."
   ]
  },
  {
   "cell_type": "markdown",
   "id": "8ae7ac81-b5ab-4a81-ae80-96971953a97c",
   "metadata": {},
   "source": [
    "2. Napisz kod, który doda do tabeli wiersz z dataframe'a wykorzystując `SQLAlchemy`.\n",
    "\n",
    "   \n",
    "---\n",
    "(czas: 8 min.)"
   ]
  },
  {
   "cell_type": "code",
   "execution_count": 3,
   "id": "589b4046-9a12-4451-8aba-6880dc3b2b47",
   "metadata": {},
   "outputs": [],
   "source": [
    "# ..."
   ]
  },
  {
   "cell_type": "markdown",
   "id": "60a3dfff-e259-4ef6-97a6-778cf2fc436b",
   "metadata": {},
   "source": [
    "3. Napisz kod, który wyciągnie dane z dataframe'a na różne sposoby"
   ]
  },
  {
   "cell_type": "code",
   "execution_count": 4,
   "id": "f89069aa-eea4-44ec-911f-074c534ba791",
   "metadata": {},
   "outputs": [],
   "source": [
    "# ..."
   ]
  }
 ],
 "metadata": {
  "kernelspec": {
   "display_name": "Python 3 (ipykernel)",
   "language": "python",
   "name": "python3"
  },
  "language_info": {
   "codemirror_mode": {
    "name": "ipython",
    "version": 3
   },
   "file_extension": ".py",
   "mimetype": "text/x-python",
   "name": "python",
   "nbconvert_exporter": "python",
   "pygments_lexer": "ipython3",
   "version": "3.11.5"
  }
 },
 "nbformat": 4,
 "nbformat_minor": 5
}
