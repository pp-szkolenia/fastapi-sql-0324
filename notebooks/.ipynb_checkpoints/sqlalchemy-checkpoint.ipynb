{
 "cells": [
  {
   "cell_type": "code",
   "execution_count": 1,
   "id": "aa555ac4-2939-4368-ab96-b972f3680947",
   "metadata": {},
   "outputs": [],
   "source": [
    "from sqlalchemy import Column, Integer, Boolean, VARCHAR\n",
    "from sqlalchemy.sql.expression import false\n",
    "from sqlalchemy import create_engine\n",
    "from sqlalchemy.orm import sessionmaker, declarative_base"
   ]
  },
  {
   "cell_type": "code",
   "execution_count": 2,
   "id": "9633e319-e29a-4694-8eeb-87461b02d3ce",
   "metadata": {},
   "outputs": [],
   "source": [
    "user = \"postgres\"\n",
    "password = \"postgres\"\n",
    "host = \"localhost\"\n",
    "port = \"5432\"\n",
    "database = \"postgres\""
   ]
  },
  {
   "cell_type": "code",
   "execution_count": 3,
   "id": "afb20bd4-a11b-4fd1-bb86-57c615d872b8",
   "metadata": {},
   "outputs": [],
   "source": [
    "Base = declarative_base()\n",
    "connection_string = f\"postgresql://{user}:{password}@{host}:{port}/{database}\""
   ]
  },
  {
   "cell_type": "code",
   "execution_count": 4,
   "id": "a8182d5a-d0b4-4749-b4e0-01da23faaa06",
   "metadata": {},
   "outputs": [],
   "source": [
    "engine = create_engine(connection_string)"
   ]
  },
  {
   "cell_type": "code",
   "execution_count": 5,
   "id": "3ac3cfed-9160-4547-b100-5163c3fb3758",
   "metadata": {},
   "outputs": [],
   "source": [
    "Session = sessionmaker(bind=engine)"
   ]
  },
  {
   "cell_type": "code",
   "execution_count": 6,
   "id": "906ad4d1-9475-4596-b6a8-3f315adf3374",
   "metadata": {},
   "outputs": [],
   "source": [
    "session = Session()"
   ]
  },
  {
   "cell_type": "code",
   "execution_count": 10,
   "id": "5b72af51-739c-4e04-9403-454f9487c52f",
   "metadata": {},
   "outputs": [],
   "source": [
    "class MyClass:\n",
    "    attr = 1\n",
    "    def __repr__(self):\n",
    "        return \"reprezentacja\""
   ]
  },
  {
   "cell_type": "code",
   "execution_count": 11,
   "id": "d12f0827-5e30-4c4a-aea6-1dbea05ffbcd",
   "metadata": {},
   "outputs": [
    {
     "data": {
      "text/plain": [
       "reprezentacja"
      ]
     },
     "execution_count": 11,
     "metadata": {},
     "output_type": "execute_result"
    }
   ],
   "source": [
    "MyClass()"
   ]
  },
  {
   "cell_type": "code",
   "execution_count": 7,
   "id": "0b68e25d-5067-4381-96e5-2165d1396e73",
   "metadata": {},
   "outputs": [],
   "source": [
    "class TaskTable(Base):\n",
    "    __tablename__ = \"tasks\"\n",
    "\n",
    "    id_number = Column(\"id\", Integer, primary_key=True)\n",
    "    description = Column(\"description\", VARCHAR(30), nullable=False)\n",
    "    priority = Column(\"priority\", Integer)\n",
    "    is_complete = Column(\"is_complete\", Boolean, server_default=false())\n",
    "\n",
    "    def __repr__(self):\n",
    "        return f\"Task(id={self.id_number})\""
   ]
  },
  {
   "cell_type": "code",
   "execution_count": 8,
   "id": "9f866f7e-5838-4772-817b-b0863f994d49",
   "metadata": {},
   "outputs": [],
   "source": [
    "Base.metadata.create_all(bind=engine)"
   ]
  },
  {
   "cell_type": "markdown",
   "id": "8f575a60-f588-4301-8871-6e6b1fe662ed",
   "metadata": {},
   "source": [
    "---"
   ]
  },
  {
   "cell_type": "code",
   "execution_count": 34,
   "id": "5ee4a726-fe0f-448f-b94d-4e837da7efe7",
   "metadata": {},
   "outputs": [],
   "source": [
    "description = \"Task 2\"\n",
    "priority = 4"
   ]
  },
  {
   "cell_type": "code",
   "execution_count": 35,
   "id": "ade2a3a0-a187-49a1-a56e-84937b081808",
   "metadata": {},
   "outputs": [],
   "source": [
    "task = TaskTable(description=description, priority=priority)"
   ]
  },
  {
   "cell_type": "code",
   "execution_count": 36,
   "id": "42ba5626-ce3a-4ab3-adfc-f44623f6e5a8",
   "metadata": {},
   "outputs": [
    {
     "data": {
      "text/plain": [
       "Task(id=None)"
      ]
     },
     "execution_count": 36,
     "metadata": {},
     "output_type": "execute_result"
    }
   ],
   "source": [
    "task"
   ]
  },
  {
   "cell_type": "code",
   "execution_count": 37,
   "id": "e5b4b28e-c8fa-44b7-82df-854f9735f337",
   "metadata": {},
   "outputs": [],
   "source": [
    "session.add(task)"
   ]
  },
  {
   "cell_type": "code",
   "execution_count": 38,
   "id": "7f4c0e7f-96ce-45c4-8e5b-a64fcc23e336",
   "metadata": {},
   "outputs": [],
   "source": [
    "session.commit()"
   ]
  },
  {
   "cell_type": "code",
   "execution_count": 15,
   "id": "701fb129-5fb1-4b15-b3e2-cef99d73eae1",
   "metadata": {},
   "outputs": [
    {
     "data": {
      "text/plain": [
       "Task(id=1)"
      ]
     },
     "execution_count": 15,
     "metadata": {},
     "output_type": "execute_result"
    }
   ],
   "source": [
    "task"
   ]
  },
  {
   "cell_type": "markdown",
   "id": "3144c400-687f-4c25-8166-6b730f25475f",
   "metadata": {},
   "source": [
    "### SELECT"
   ]
  },
  {
   "cell_type": "markdown",
   "id": "bafb6a09-e436-4c75-8fe3-f9b3f1b30398",
   "metadata": {},
   "source": [
    "#### All data"
   ]
  },
  {
   "cell_type": "code",
   "execution_count": 41,
   "id": "3e8c8a10-b20d-40ad-ab31-1ea1938d084f",
   "metadata": {},
   "outputs": [],
   "source": [
    "results = session.query(TaskTable).all()"
   ]
  },
  {
   "cell_type": "markdown",
   "id": "08e4bbfa-03f2-4816-8265-bc74281425f0",
   "metadata": {},
   "source": [
    "#### One row"
   ]
  },
  {
   "cell_type": "code",
   "execution_count": 50,
   "id": "adc27140-b2c2-4b14-937d-beb97cff0fb1",
   "metadata": {},
   "outputs": [
    {
     "data": {
      "text/plain": [
       "Task(id=1)"
      ]
     },
     "execution_count": 50,
     "metadata": {},
     "output_type": "execute_result"
    }
   ],
   "source": [
    "session.query(TaskTable).first()"
   ]
  },
  {
   "cell_type": "markdown",
   "id": "ba2172c1-6d2c-4d1e-9ccf-8110bd87be71",
   "metadata": {},
   "source": [
    "#### Select columns"
   ]
  },
  {
   "cell_type": "code",
   "execution_count": 52,
   "id": "0c16c76a-20ad-49a3-84a5-beb2576aab46",
   "metadata": {},
   "outputs": [
    {
     "data": {
      "text/plain": [
       "[('Task description', True),\n",
       " ('Task description', True),\n",
       " ('Task description', True),\n",
       " ('Task 1', False),\n",
       " ('Task 2', False)]"
      ]
     },
     "execution_count": 52,
     "metadata": {},
     "output_type": "execute_result"
    }
   ],
   "source": [
    "session.query(TaskTable.description, TaskTable.is_complete).all()"
   ]
  },
  {
   "cell_type": "markdown",
   "id": "b2278ad1-2bf3-43fc-8e1d-44ca86c8f442",
   "metadata": {},
   "source": [
    "#### Filter (where)"
   ]
  },
  {
   "cell_type": "code",
   "execution_count": 56,
   "id": "56e6ae3b-b800-4058-8f58-879208e20dde",
   "metadata": {},
   "outputs": [
    {
     "data": {
      "text/plain": [
       "[Task(id=2)]"
      ]
     },
     "execution_count": 56,
     "metadata": {},
     "output_type": "execute_result"
    }
   ],
   "source": [
    "session.query(TaskTable).filter_by(id_number=2).all()"
   ]
  },
  {
   "cell_type": "code",
   "execution_count": 63,
   "id": "a7266656-75c9-46fe-a442-38dfc4936569",
   "metadata": {},
   "outputs": [],
   "source": [
    "from sqlalchemy import between, and_, or_"
   ]
  },
  {
   "cell_type": "code",
   "execution_count": 67,
   "id": "6684fa67-eff5-4d91-bb70-1a68fc44373b",
   "metadata": {},
   "outputs": [
    {
     "data": {
      "text/plain": [
       "[('Task description',),\n",
       " ('Task description',),\n",
       " ('Task description',),\n",
       " ('Task 1',),\n",
       " ('Task 2',)]"
      ]
     },
     "execution_count": 67,
     "metadata": {},
     "output_type": "execute_result"
    }
   ],
   "source": [
    "session.query(TaskTable.description).filter(or_(between(TaskTable.priority, 2, 3), between(TaskTable.id_number, 4, 5))).all()"
   ]
  },
  {
   "cell_type": "code",
   "execution_count": null,
   "id": "a82a5c8f-250e-4d2e-91b6-e088d7c5ed05",
   "metadata": {},
   "outputs": [],
   "source": []
  },
  {
   "cell_type": "code",
   "execution_count": null,
   "id": "942b403c-f3b5-43b0-880f-8734a1755f26",
   "metadata": {},
   "outputs": [],
   "source": []
  }
 ],
 "metadata": {
  "kernelspec": {
   "display_name": "Python 3 (ipykernel)",
   "language": "python",
   "name": "python3"
  },
  "language_info": {
   "codemirror_mode": {
    "name": "ipython",
    "version": 3
   },
   "file_extension": ".py",
   "mimetype": "text/x-python",
   "name": "python",
   "nbconvert_exporter": "python",
   "pygments_lexer": "ipython3",
   "version": "3.11.5"
  }
 },
 "nbformat": 4,
 "nbformat_minor": 5
}
