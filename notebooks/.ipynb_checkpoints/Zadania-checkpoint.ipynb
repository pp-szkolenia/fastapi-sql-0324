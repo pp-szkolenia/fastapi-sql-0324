{
 "cells": [
  {
   "cell_type": "markdown",
   "id": "0c4f04ff-8429-41d6-9b7d-25f1553dbd88",
   "metadata": {},
   "source": [
    "### Psycopg2"
   ]
  },
  {
   "cell_type": "markdown",
   "id": "5d61096c-d9f0-4744-b432-9491f006d464",
   "metadata": {},
   "source": [
    "1. Wczytaj dane z pliku `cars.csv` i wyodrębnij z niego kolumny:\n",
    "   - `price`\n",
    "   - `brand`\n",
    "   - `fuel`\n",
    "   - `power`\n",
    "   - `prod_year`\n",
    "\n",
    "\n",
    "Następnie napisz zapytanie `CREATE`, które utworzy tabelę o takim samym schemacie + dodatkowa kolumna `id` typu `serial`. Wykonaj zapytanie za pomocą `psycopg2`\n",
    "\n",
    "---\n",
    "(czas: 16 min.)"
   ]
  },
  {
   "cell_type": "code",
   "execution_count": 1,
   "id": "a1e4d87c-e60b-4645-a8b2-68339b5b51e5",
   "metadata": {},
   "outputs": [],
   "source": [
    "import pandas as pd"
   ]
  },
  {
   "cell_type": "code",
   "execution_count": 3,
   "id": "a0f4d887-6903-4c7e-95e5-34a0dea5742d",
   "metadata": {},
   "outputs": [
    {
     "data": {
      "text/html": [
       "<div>\n",
       "<style scoped>\n",
       "    .dataframe tbody tr th:only-of-type {\n",
       "        vertical-align: middle;\n",
       "    }\n",
       "\n",
       "    .dataframe tbody tr th {\n",
       "        vertical-align: top;\n",
       "    }\n",
       "\n",
       "    .dataframe thead th {\n",
       "        text-align: right;\n",
       "    }\n",
       "</style>\n",
       "<table border=\"1\" class=\"dataframe\">\n",
       "  <thead>\n",
       "    <tr style=\"text-align: right;\">\n",
       "      <th></th>\n",
       "      <th>price</th>\n",
       "      <th>brand</th>\n",
       "      <th>fuel</th>\n",
       "      <th>power</th>\n",
       "      <th>prod_year</th>\n",
       "    </tr>\n",
       "  </thead>\n",
       "  <tbody>\n",
       "    <tr>\n",
       "      <th>0</th>\n",
       "      <td>32900</td>\n",
       "      <td>Škoda</td>\n",
       "      <td>Diesel</td>\n",
       "      <td>115.0</td>\n",
       "      <td>2017</td>\n",
       "    </tr>\n",
       "    <tr>\n",
       "      <th>1</th>\n",
       "      <td>32500</td>\n",
       "      <td>BMW</td>\n",
       "      <td>Diesel</td>\n",
       "      <td>116.0</td>\n",
       "      <td>2012</td>\n",
       "    </tr>\n",
       "    <tr>\n",
       "      <th>2</th>\n",
       "      <td>7900</td>\n",
       "      <td>Fiat</td>\n",
       "      <td>Benzyna</td>\n",
       "      <td>69.0</td>\n",
       "      <td>2012</td>\n",
       "    </tr>\n",
       "    <tr>\n",
       "      <th>3</th>\n",
       "      <td>39990</td>\n",
       "      <td>Kia</td>\n",
       "      <td>Diesel</td>\n",
       "      <td>115.0</td>\n",
       "      <td>2012</td>\n",
       "    </tr>\n",
       "    <tr>\n",
       "      <th>4</th>\n",
       "      <td>42900</td>\n",
       "      <td>Kia</td>\n",
       "      <td>Diesel</td>\n",
       "      <td>115.0</td>\n",
       "      <td>2012</td>\n",
       "    </tr>\n",
       "    <tr>\n",
       "      <th>5</th>\n",
       "      <td>19400</td>\n",
       "      <td>BMW</td>\n",
       "      <td>Benzyna+LPG</td>\n",
       "      <td>177.0</td>\n",
       "      <td>2005</td>\n",
       "    </tr>\n",
       "    <tr>\n",
       "      <th>6</th>\n",
       "      <td>106600</td>\n",
       "      <td>Renault</td>\n",
       "      <td>Benzyna</td>\n",
       "      <td>140.0</td>\n",
       "      <td>2020</td>\n",
       "    </tr>\n",
       "    <tr>\n",
       "      <th>7</th>\n",
       "      <td>32900</td>\n",
       "      <td>Dacia</td>\n",
       "      <td>Benzyna</td>\n",
       "      <td>102.0</td>\n",
       "      <td>2016</td>\n",
       "    </tr>\n",
       "    <tr>\n",
       "      <th>8</th>\n",
       "      <td>32999</td>\n",
       "      <td>Opel</td>\n",
       "      <td>Diesel</td>\n",
       "      <td>163.0</td>\n",
       "      <td>2015</td>\n",
       "    </tr>\n",
       "    <tr>\n",
       "      <th>9</th>\n",
       "      <td>36800</td>\n",
       "      <td>Volkswagen</td>\n",
       "      <td>Diesel</td>\n",
       "      <td>140.0</td>\n",
       "      <td>2012</td>\n",
       "    </tr>\n",
       "  </tbody>\n",
       "</table>\n",
       "</div>"
      ],
      "text/plain": [
       "    price       brand         fuel  power  prod_year\n",
       "0   32900       Škoda       Diesel  115.0       2017\n",
       "1   32500         BMW       Diesel  116.0       2012\n",
       "2    7900        Fiat      Benzyna   69.0       2012\n",
       "3   39990         Kia       Diesel  115.0       2012\n",
       "4   42900         Kia       Diesel  115.0       2012\n",
       "5   19400         BMW  Benzyna+LPG  177.0       2005\n",
       "6  106600     Renault      Benzyna  140.0       2020\n",
       "7   32900       Dacia      Benzyna  102.0       2016\n",
       "8   32999        Opel       Diesel  163.0       2015\n",
       "9   36800  Volkswagen       Diesel  140.0       2012"
      ]
     },
     "execution_count": 3,
     "metadata": {},
     "output_type": "execute_result"
    }
   ],
   "source": [
    "df = pd.read_csv(\"cars.csv\", usecols=[\"price\", \"brand\", \"fuel\", \"power\", \"prod_year\"]).iloc[:10]\n",
    "df"
   ]
  },
  {
   "cell_type": "code",
   "execution_count": 6,
   "id": "493031a9-03bf-4435-8013-c9ebda11bcfb",
   "metadata": {},
   "outputs": [],
   "source": [
    "import psycopg2"
   ]
  },
  {
   "cell_type": "code",
   "execution_count": 16,
   "id": "4d8123b5-69e2-46ec-a879-ad39de46bd9a",
   "metadata": {},
   "outputs": [],
   "source": [
    "create_query = \"\"\"CREATE TABLE cars1 (\n",
    "    id SERIAL,\n",
    "    price INTEGER,\n",
    "    brand TEXT,\n",
    "    fuel TEXT,\n",
    "    power SMALLINT,\n",
    "    prod_year SMALLINT\n",
    ")\n",
    "\"\"\""
   ]
  },
  {
   "cell_type": "code",
   "execution_count": 17,
   "id": "b9ec066e-2a31-47f1-bdb4-732e096855db",
   "metadata": {},
   "outputs": [],
   "source": [
    "conn = psycopg2.connect(dbname=\"postgres\", user=\"postgres\", password=\"postgres\", host=\"localhost\")\n",
    "cursor = conn.cursor()"
   ]
  },
  {
   "cell_type": "code",
   "execution_count": 18,
   "id": "ffdc0682-9b9f-4118-88bb-014b8640f57a",
   "metadata": {},
   "outputs": [],
   "source": [
    "cursor.execute(create_query)\n",
    "conn.commit()"
   ]
  },
  {
   "cell_type": "code",
   "execution_count": 8,
   "id": "5aacbb9f-e9bd-4bc2-8483-9b048d36ad08",
   "metadata": {},
   "outputs": [],
   "source": [
    "# ..."
   ]
  },
  {
   "cell_type": "markdown",
   "id": "992aa75f-c3d9-4063-a002-8e4e2f227352",
   "metadata": {},
   "source": [
    "2. Napisz kod, który na podstawie numeru indeksu wiersza dataframe'a, wyciągnie ten wiersz z tabeli, utworzy zapytanie `INSERT` a następnie wykona je na bazie.\n",
    "\n",
    "Podpowiedź:\n",
    "\n",
    "Poniższy kod zamieni typy danych w rekordzie z df-a z numpyowych na zwykłe. Będzie to przydatne podczas insertowania.\n",
    "\n",
    "`[x.item() if isinstance(x, np.generic) else x for x in record.values]`\n",
    "\n",
    "---\n",
    "\n",
    "(czas: 20 min.)"
   ]
  },
  {
   "cell_type": "code",
   "execution_count": 19,
   "id": "778104c4-a78d-4b0f-933d-999ab577ef8c",
   "metadata": {},
   "outputs": [],
   "source": [
    "import numpy as np"
   ]
  },
  {
   "cell_type": "code",
   "execution_count": 20,
   "id": "d7eb6163-b5cd-40c6-ac86-fa056207aa5a",
   "metadata": {},
   "outputs": [],
   "source": [
    "def get_row_from_df(df, idx):\n",
    "    return df.loc[idx]"
   ]
  },
  {
   "cell_type": "code",
   "execution_count": 36,
   "id": "786e3698-f954-4531-959e-81c0987adbff",
   "metadata": {},
   "outputs": [],
   "source": [
    "def get_values_from_record(record):\n",
    "    return [x.item() if isinstance(x, np.generic) else x for x in record.values]"
   ]
  },
  {
   "cell_type": "code",
   "execution_count": 29,
   "id": "e5369eca-1da8-4b39-b2dd-98fe5c60ef19",
   "metadata": {},
   "outputs": [],
   "source": [
    "def generate_insert_query_template(record):\n",
    "    return f\"INSERT INTO cars(price, brand, fuel, power, prod_year) VALUES ({','.join(['%s']*len(record))})\""
   ]
  },
  {
   "cell_type": "code",
   "execution_count": 32,
   "id": "c72b90c2-5fd7-4360-9537-7cf4277c3638",
   "metadata": {},
   "outputs": [
    {
     "data": {
      "text/plain": [
       "'INSERT INTO cars(price, brand, fuel, power, prod_year) VALUES (%s,%s,%s,%s,%s)'"
      ]
     },
     "execution_count": 32,
     "metadata": {},
     "output_type": "execute_result"
    }
   ],
   "source": [
    "generate_insert_query_template(record)"
   ]
  },
  {
   "cell_type": "code",
   "execution_count": 31,
   "id": "9bc55a66-456b-4d9d-be69-750338eeda9a",
   "metadata": {},
   "outputs": [],
   "source": [
    "record = get_row_from_df(df, 3)"
   ]
  },
  {
   "cell_type": "code",
   "execution_count": 33,
   "id": "f3ee6810-88da-4138-a1b6-ad37f4e9e4ca",
   "metadata": {},
   "outputs": [],
   "source": [
    "def run_query(query_template, values):\n",
    "    cursor.execute(query_template, values)\n",
    "    conn.commit()"
   ]
  },
  {
   "cell_type": "code",
   "execution_count": 37,
   "id": "e7829824-2e6a-4132-8766-e9e0eb3904a7",
   "metadata": {},
   "outputs": [],
   "source": [
    "for i in range(10):\n",
    "    record = get_row_from_df(df, i)\n",
    "    values = get_values_from_record(record)\n",
    "    query = generate_insert_query_template(record)\n",
    "    run_query(query, values)"
   ]
  },
  {
   "cell_type": "markdown",
   "id": "f92418a4-181f-49a6-a0bb-003b3f9f0565",
   "metadata": {},
   "source": [
    "3. Napisz funkcję, która przyjmie zapytanie typu `SELECT` i wykona je na bazie."
   ]
  },
  {
   "cell_type": "code",
   "execution_count": 7,
   "id": "c712f5be-6555-48cf-a595-3e0897478b70",
   "metadata": {},
   "outputs": [],
   "source": [
    "# ..."
   ]
  },
  {
   "cell_type": "markdown",
   "id": "ba85f1b8-ee2f-4dff-b8e4-9a50e31b339b",
   "metadata": {},
   "source": [
    "4. Napisz funkcję, która przyjmie `id` wiersza w tabeli, nazwę kolumny oraz nową wartość a następnie zupdatuje tabelę."
   ]
  },
  {
   "cell_type": "code",
   "execution_count": 5,
   "id": "d0ae761b-eb1a-48ea-aabf-cc6de2d72edf",
   "metadata": {},
   "outputs": [],
   "source": [
    "# ..."
   ]
  },
  {
   "cell_type": "markdown",
   "id": "6236825a-757a-4398-91f7-fe9e6a09c962",
   "metadata": {},
   "source": [
    "5. Napisz funkcję, która przyjmie `id` wiersza w tabeli a następnie go usunie."
   ]
  },
  {
   "cell_type": "code",
   "execution_count": 6,
   "id": "4eb8cbd3-7200-4526-a426-26acfce76dcc",
   "metadata": {},
   "outputs": [],
   "source": [
    "# ..."
   ]
  },
  {
   "cell_type": "markdown",
   "id": "9a071bb0-98cf-494f-b33a-92d4e80f6cd2",
   "metadata": {},
   "source": [
    "### SQLAlchemy"
   ]
  },
  {
   "cell_type": "markdown",
   "id": "2eb5af51-52c6-4620-8b4c-2eaa86b863f0",
   "metadata": {},
   "source": [
    "1. Utwórz klasę odpowiadającą tabeli `cars` a następnie samą tabelę za pomocą `SQLAlchemy`.\n",
    "\n",
    "\n",
    "---\n",
    "(czas: 16 min.)"
   ]
  },
  {
   "cell_type": "code",
   "execution_count": 2,
   "id": "f84de049-1f9c-44cb-a3e0-3b444790224f",
   "metadata": {},
   "outputs": [],
   "source": [
    "# ..."
   ]
  },
  {
   "cell_type": "markdown",
   "id": "8ae7ac81-b5ab-4a81-ae80-96971953a97c",
   "metadata": {},
   "source": [
    "2. Napisz kod, który doda do tabeli wiersz z dataframe'a wykorzystując `SQLAlchemy`.\n",
    "\n",
    "   \n",
    "---\n",
    "(czas: 8 min.)"
   ]
  },
  {
   "cell_type": "code",
   "execution_count": 3,
   "id": "589b4046-9a12-4451-8aba-6880dc3b2b47",
   "metadata": {},
   "outputs": [],
   "source": [
    "# ..."
   ]
  },
  {
   "cell_type": "markdown",
   "id": "60a3dfff-e259-4ef6-97a6-778cf2fc436b",
   "metadata": {},
   "source": [
    "3. Napisz kod, który wyciągnie dane z dataframe'a na różne sposoby"
   ]
  },
  {
   "cell_type": "code",
   "execution_count": 4,
   "id": "f89069aa-eea4-44ec-911f-074c534ba791",
   "metadata": {},
   "outputs": [],
   "source": [
    "# ..."
   ]
  }
 ],
 "metadata": {
  "kernelspec": {
   "display_name": "Python 3 (ipykernel)",
   "language": "python",
   "name": "python3"
  },
  "language_info": {
   "codemirror_mode": {
    "name": "ipython",
    "version": 3
   },
   "file_extension": ".py",
   "mimetype": "text/x-python",
   "name": "python",
   "nbconvert_exporter": "python",
   "pygments_lexer": "ipython3",
   "version": "3.11.5"
  }
 },
 "nbformat": 4,
 "nbformat_minor": 5
}
