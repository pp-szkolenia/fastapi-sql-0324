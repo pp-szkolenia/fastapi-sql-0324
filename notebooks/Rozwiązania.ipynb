{
 "cells": [
  {
   "cell_type": "markdown",
   "id": "0c4f04ff-8429-41d6-9b7d-25f1553dbd88",
   "metadata": {},
   "source": [
    "### Psycopg2"
   ]
  },
  {
   "cell_type": "markdown",
   "id": "5d61096c-d9f0-4744-b432-9491f006d464",
   "metadata": {},
   "source": [
    "1. Wczytaj dane z pliku `cars.csv` i wyodrębnij z niego kolumny:\n",
    "   - `price`\n",
    "   - `brand`\n",
    "   - `fuel`\n",
    "   - `power`\n",
    "   - `prod_year`\n",
    "\n",
    "\n",
    "Następnie napisz zapytanie `CREATE`, które utworzy tabelę o takim samym schemacie + dodatkowa kolumna `id` typu `serial`. Wykonaj zapytanie za pomocą `psycopg2`"
   ]
  },
  {
   "cell_type": "code",
   "execution_count": 12,
   "id": "5aacbb9f-e9bd-4bc2-8483-9b048d36ad08",
   "metadata": {},
   "outputs": [
    {
     "data": {
      "text/html": [
       "<div>\n",
       "<style scoped>\n",
       "    .dataframe tbody tr th:only-of-type {\n",
       "        vertical-align: middle;\n",
       "    }\n",
       "\n",
       "    .dataframe tbody tr th {\n",
       "        vertical-align: top;\n",
       "    }\n",
       "\n",
       "    .dataframe thead th {\n",
       "        text-align: right;\n",
       "    }\n",
       "</style>\n",
       "<table border=\"1\" class=\"dataframe\">\n",
       "  <thead>\n",
       "    <tr style=\"text-align: right;\">\n",
       "      <th></th>\n",
       "      <th>price</th>\n",
       "      <th>brand</th>\n",
       "      <th>fuel</th>\n",
       "      <th>power</th>\n",
       "      <th>prod_year</th>\n",
       "    </tr>\n",
       "  </thead>\n",
       "  <tbody>\n",
       "    <tr>\n",
       "      <th>0</th>\n",
       "      <td>32900</td>\n",
       "      <td>Škoda</td>\n",
       "      <td>Diesel</td>\n",
       "      <td>115.0</td>\n",
       "      <td>2017</td>\n",
       "    </tr>\n",
       "    <tr>\n",
       "      <th>1</th>\n",
       "      <td>32500</td>\n",
       "      <td>BMW</td>\n",
       "      <td>Diesel</td>\n",
       "      <td>116.0</td>\n",
       "      <td>2012</td>\n",
       "    </tr>\n",
       "    <tr>\n",
       "      <th>2</th>\n",
       "      <td>7900</td>\n",
       "      <td>Fiat</td>\n",
       "      <td>Benzyna</td>\n",
       "      <td>69.0</td>\n",
       "      <td>2012</td>\n",
       "    </tr>\n",
       "    <tr>\n",
       "      <th>3</th>\n",
       "      <td>39990</td>\n",
       "      <td>Kia</td>\n",
       "      <td>Diesel</td>\n",
       "      <td>115.0</td>\n",
       "      <td>2012</td>\n",
       "    </tr>\n",
       "    <tr>\n",
       "      <th>4</th>\n",
       "      <td>42900</td>\n",
       "      <td>Kia</td>\n",
       "      <td>Diesel</td>\n",
       "      <td>115.0</td>\n",
       "      <td>2012</td>\n",
       "    </tr>\n",
       "    <tr>\n",
       "      <th>...</th>\n",
       "      <td>...</td>\n",
       "      <td>...</td>\n",
       "      <td>...</td>\n",
       "      <td>...</td>\n",
       "      <td>...</td>\n",
       "    </tr>\n",
       "    <tr>\n",
       "      <th>99995</th>\n",
       "      <td>83990</td>\n",
       "      <td>Ford</td>\n",
       "      <td>Diesel</td>\n",
       "      <td>120.0</td>\n",
       "      <td>2020</td>\n",
       "    </tr>\n",
       "    <tr>\n",
       "      <th>99996</th>\n",
       "      <td>7400</td>\n",
       "      <td>Audi</td>\n",
       "      <td>Benzyna</td>\n",
       "      <td>125.0</td>\n",
       "      <td>1999</td>\n",
       "    </tr>\n",
       "    <tr>\n",
       "      <th>99997</th>\n",
       "      <td>30000</td>\n",
       "      <td>BMW</td>\n",
       "      <td>Diesel</td>\n",
       "      <td>245.0</td>\n",
       "      <td>1999</td>\n",
       "    </tr>\n",
       "    <tr>\n",
       "      <th>99998</th>\n",
       "      <td>69000</td>\n",
       "      <td>Peugeot</td>\n",
       "      <td>Benzyna</td>\n",
       "      <td>101.0</td>\n",
       "      <td>2020</td>\n",
       "    </tr>\n",
       "    <tr>\n",
       "      <th>99999</th>\n",
       "      <td>18000</td>\n",
       "      <td>Volkswagen</td>\n",
       "      <td>Benzyna</td>\n",
       "      <td>140.0</td>\n",
       "      <td>2007</td>\n",
       "    </tr>\n",
       "  </tbody>\n",
       "</table>\n",
       "<p>99328 rows × 5 columns</p>\n",
       "</div>"
      ],
      "text/plain": [
       "       price       brand     fuel  power  prod_year\n",
       "0      32900       Škoda   Diesel  115.0       2017\n",
       "1      32500         BMW   Diesel  116.0       2012\n",
       "2       7900        Fiat  Benzyna   69.0       2012\n",
       "3      39990         Kia   Diesel  115.0       2012\n",
       "4      42900         Kia   Diesel  115.0       2012\n",
       "...      ...         ...      ...    ...        ...\n",
       "99995  83990        Ford   Diesel  120.0       2020\n",
       "99996   7400        Audi  Benzyna  125.0       1999\n",
       "99997  30000         BMW   Diesel  245.0       1999\n",
       "99998  69000     Peugeot  Benzyna  101.0       2020\n",
       "99999  18000  Volkswagen  Benzyna  140.0       2007\n",
       "\n",
       "[99328 rows x 5 columns]"
      ]
     },
     "execution_count": 12,
     "metadata": {},
     "output_type": "execute_result"
    }
   ],
   "source": [
    "import pandas as pd\n",
    "import psycopg2\n",
    "\n",
    "df = pd.read_csv(\"cars.csv\", usecols=[\"price\", \"brand\", \"fuel\", \"power\", \"prod_year\"]).dropna()\n",
    "df"
   ]
  },
  {
   "cell_type": "code",
   "execution_count": 11,
   "id": "7559426d-19ad-4710-a7c5-13f7caaf3f1e",
   "metadata": {},
   "outputs": [],
   "source": [
    "create_query = \"\"\"CREATE TABLE cars(\n",
    "    id SERIAL,\n",
    "    price INTEGER,\n",
    "    brand TEXT,\n",
    "    fuel TEXT,\n",
    "    power SMALLINT,\n",
    "    prod_year SMALLINT\n",
    ")\n",
    "\"\"\""
   ]
  },
  {
   "cell_type": "code",
   "execution_count": 13,
   "id": "95c8ae47-2096-4ff2-8ec1-8e6f15c66719",
   "metadata": {},
   "outputs": [],
   "source": [
    "conn = psycopg2.connect(dbname=\"postgres\", user=\"postgres\", password=\"postgres\", host=\"localhost\")\n",
    "cursor = conn.cursor()"
   ]
  },
  {
   "cell_type": "code",
   "execution_count": 14,
   "id": "196d9af5-0202-4ae5-9579-27c67b46dd4f",
   "metadata": {},
   "outputs": [],
   "source": [
    "cursor.execute(create_query)\n",
    "conn.commit()"
   ]
  },
  {
   "cell_type": "markdown",
   "id": "992aa75f-c3d9-4063-a002-8e4e2f227352",
   "metadata": {},
   "source": [
    "2. Napisz kod, który na podstawie numeru indeksu wiersza dataframe'a, wyciągnie ten wiersz z tabeli, utworzy zapytanie `INSERT` a następnie wykona je na bazie."
   ]
  },
  {
   "cell_type": "code",
   "execution_count": 6,
   "id": "5f5d9835-a0bf-4309-bb98-2d67546cff96",
   "metadata": {},
   "outputs": [],
   "source": [
    "import numpy as np"
   ]
  },
  {
   "cell_type": "code",
   "execution_count": 7,
   "id": "550fa885-1fd8-4ce9-b63b-4d08d88da275",
   "metadata": {},
   "outputs": [],
   "source": [
    "def get_row_from_df(df, idx):\n",
    "    return df.loc[idx]"
   ]
  },
  {
   "cell_type": "code",
   "execution_count": 8,
   "id": "22048b66-4652-4e91-8483-4d805ed25f40",
   "metadata": {},
   "outputs": [],
   "source": [
    "def get_values_from_record(record):\n",
    "    return [x.item() if isinstance(x, np.generic) else x for x in record.values]"
   ]
  },
  {
   "cell_type": "code",
   "execution_count": 9,
   "id": "c7d24f40-b66b-4d68-8355-a7d3eb0db405",
   "metadata": {},
   "outputs": [],
   "source": [
    "def generate_insert_query_template(record):\n",
    "    return f\"INSERT INTO cars(price, brand, fuel, power, prod_year) VALUES ({','.join(['%s']*len(record))})\""
   ]
  },
  {
   "cell_type": "code",
   "execution_count": 10,
   "id": "690d9e6f-1396-4654-9ea3-4b8760dcd13d",
   "metadata": {},
   "outputs": [],
   "source": [
    "def run_query(query_template, values):\n",
    "    cursor.execute(query_template, values)\n",
    "    conn.commit()"
   ]
  },
  {
   "cell_type": "code",
   "execution_count": 13,
   "id": "3c9575ed-9f0f-4a74-a018-323012c3874f",
   "metadata": {},
   "outputs": [],
   "source": [
    "record = get_row_from_df(df, 0)\n",
    "values = get_values_from_record(record)"
   ]
  },
  {
   "cell_type": "code",
   "execution_count": 14,
   "id": "ec113755-23a7-4361-b538-a23f387b5b02",
   "metadata": {},
   "outputs": [
    {
     "data": {
      "text/plain": [
       "'INSERT INTO cars(price, brand, fuel, power, prod_year) VALUES (%s,%s,%s,%s,%s)'"
      ]
     },
     "execution_count": 14,
     "metadata": {},
     "output_type": "execute_result"
    }
   ],
   "source": [
    "query = generate_insert_query_template(record)\n",
    "query"
   ]
  },
  {
   "cell_type": "code",
   "execution_count": 16,
   "id": "1dfaba5b-ecbc-471e-bce2-5e8ab9cb81f3",
   "metadata": {},
   "outputs": [
    {
     "ename": "NameError",
     "evalue": "name 'cursor' is not defined",
     "output_type": "error",
     "traceback": [
      "\u001b[0;31m---------------------------------------------------------------------------\u001b[0m",
      "\u001b[0;31mNameError\u001b[0m                                 Traceback (most recent call last)",
      "Cell \u001b[0;32mIn[16], line 1\u001b[0m\n\u001b[0;32m----> 1\u001b[0m run_query(query, values)\n",
      "Cell \u001b[0;32mIn[10], line 2\u001b[0m, in \u001b[0;36mrun_query\u001b[0;34m(query_template, values)\u001b[0m\n\u001b[1;32m      1\u001b[0m \u001b[38;5;28;01mdef\u001b[39;00m \u001b[38;5;21mrun_query\u001b[39m(query_template, values):\n\u001b[0;32m----> 2\u001b[0m     cursor\u001b[38;5;241m.\u001b[39mexecute(query_template, values)\n\u001b[1;32m      3\u001b[0m     conn\u001b[38;5;241m.\u001b[39mcommit()\n",
      "\u001b[0;31mNameError\u001b[0m: name 'cursor' is not defined"
     ]
    }
   ],
   "source": [
    "run_query(query, values)"
   ]
  },
  {
   "cell_type": "markdown",
   "id": "f92418a4-181f-49a6-a0bb-003b3f9f0565",
   "metadata": {},
   "source": [
    "3. Napisz funkcję, która przyjmie zapytanie typu `SELECT` i wykona je na bazie."
   ]
  },
  {
   "cell_type": "code",
   "execution_count": 7,
   "id": "c712f5be-6555-48cf-a595-3e0897478b70",
   "metadata": {},
   "outputs": [],
   "source": [
    "# ..."
   ]
  },
  {
   "cell_type": "markdown",
   "id": "ba85f1b8-ee2f-4dff-b8e4-9a50e31b339b",
   "metadata": {},
   "source": [
    "4. Napisz funkcję, która przyjmie `id` wiersza w tabeli, nazwę kolumny oraz nową wartość a następnie zupdatuje tabelę."
   ]
  },
  {
   "cell_type": "code",
   "execution_count": 5,
   "id": "d0ae761b-eb1a-48ea-aabf-cc6de2d72edf",
   "metadata": {},
   "outputs": [],
   "source": [
    "# ..."
   ]
  },
  {
   "cell_type": "markdown",
   "id": "6236825a-757a-4398-91f7-fe9e6a09c962",
   "metadata": {},
   "source": [
    "5. Napisz funkcję, która przyjmie `id` wiersza w tabeli a następnie go usunie."
   ]
  },
  {
   "cell_type": "code",
   "execution_count": 6,
   "id": "4eb8cbd3-7200-4526-a426-26acfce76dcc",
   "metadata": {},
   "outputs": [],
   "source": [
    "# ..."
   ]
  },
  {
   "cell_type": "markdown",
   "id": "9a071bb0-98cf-494f-b33a-92d4e80f6cd2",
   "metadata": {},
   "source": [
    "### SQLAlchemy"
   ]
  },
  {
   "cell_type": "markdown",
   "id": "052ad793-504b-46e5-8aae-3ba1fa2f5c6a",
   "metadata": {},
   "source": [
    "1. Utwórz klasę odpowiadającą tabeli `cars` a następnie samą tabelę za pomocą `SQLAlchemy`."
   ]
  },
  {
   "cell_type": "code",
   "execution_count": 1,
   "id": "f84de049-1f9c-44cb-a3e0-3b444790224f",
   "metadata": {},
   "outputs": [],
   "source": [
    "from sqlalchemy import Column, Integer, Boolean, VARCHAR, String\n",
    "from sqlalchemy.sql.expression import false\n",
    "from sqlalchemy import create_engine\n",
    "from sqlalchemy.orm import sessionmaker, declarative_base"
   ]
  },
  {
   "cell_type": "code",
   "execution_count": 2,
   "id": "e87eb471-a0d7-4f8b-a5fb-b043d815a14f",
   "metadata": {},
   "outputs": [],
   "source": [
    "user = \"postgres\"\n",
    "password = \"postgres\"\n",
    "host = \"localhost\"\n",
    "port = \"5432\"\n",
    "database = \"postgres\"\n",
    "\n",
    "Base = declarative_base()\n",
    "connection_string = f\"postgresql://{user}:{password}@{host}:{port}/{database}\"\n",
    "engine = create_engine(connection_string)\n",
    "Session = sessionmaker(bind=engine)\n",
    "session = Session()"
   ]
  },
  {
   "cell_type": "code",
   "execution_count": 3,
   "id": "3ab0eba2-8d7a-4c0d-a82e-02d67fe267d0",
   "metadata": {},
   "outputs": [],
   "source": [
    "class CarsTable(Base):\n",
    "    __tablename__ = \"cars\"\n",
    "\n",
    "    id = Column(\"id\", Integer, primary_key=True)\n",
    "    price = Column(\"price\", Integer)\n",
    "    brand = Column(\"brand\", String)\n",
    "    fuel = Column(\"fuel\", String)\n",
    "    power = Column(\"power\", Integer)\n",
    "    prod_year = Column(\"prod_year\", Integer)\n",
    "\n",
    "    def __repr__(self):\n",
    "        return f\"Cars(id={self.id})\""
   ]
  },
  {
   "cell_type": "code",
   "execution_count": 4,
   "id": "1c7ef315-4d19-4118-a47c-9db1bd890cb9",
   "metadata": {},
   "outputs": [],
   "source": [
    "Base.metadata.create_all(bind=engine)"
   ]
  },
  {
   "cell_type": "markdown",
   "id": "b4e73043-0fe2-4937-9a7d-1490b7701d60",
   "metadata": {},
   "source": [
    "2. Napisz kod, który doda do tabeli wiersz z dataframe'a wykorzystując `SQLAlchemy`."
   ]
  },
  {
   "cell_type": "code",
   "execution_count": 46,
   "id": "50025d0b-0c42-477c-839b-1b38984f2f34",
   "metadata": {},
   "outputs": [],
   "source": [
    "record = get_row_from_df(df, 5)\n",
    "record.values[:] = get_values_from_record(record)"
   ]
  },
  {
   "cell_type": "code",
   "execution_count": 47,
   "id": "589b4046-9a12-4451-8aba-6880dc3b2b47",
   "metadata": {},
   "outputs": [],
   "source": [
    "car = CarsTable(**record)"
   ]
  },
  {
   "cell_type": "code",
   "execution_count": 48,
   "id": "ec3271d2-4a9a-4e75-9bcc-4ac870e8639c",
   "metadata": {},
   "outputs": [],
   "source": [
    "session.add(car)\n",
    "session.commit()"
   ]
  },
  {
   "cell_type": "code",
   "execution_count": 35,
   "id": "40990bac-46d9-4770-9351-e622b25242f5",
   "metadata": {},
   "outputs": [],
   "source": [
    "# car.id"
   ]
  },
  {
   "cell_type": "markdown",
   "id": "ae294003-3c08-4add-b914-0a84304cc2a9",
   "metadata": {},
   "source": [
    "3. Napisz kod, który wyciągnie dane z dataframe'a na różne sposoby"
   ]
  },
  {
   "cell_type": "code",
   "execution_count": 50,
   "id": "cd3337e8-d1f1-4e18-8540-915c79f62d58",
   "metadata": {},
   "outputs": [
    {
     "data": {
      "text/plain": [
       "[Cars(id=1), Cars(id=2), Cars(id=3), Cars(id=4), Cars(id=5), Cars(id=6)]"
      ]
     },
     "execution_count": 50,
     "metadata": {},
     "output_type": "execute_result"
    }
   ],
   "source": [
    "session.query(CarsTable).all()"
   ]
  },
  {
   "cell_type": "code",
   "execution_count": 54,
   "id": "0625ff4e-a4fa-4fc9-b4e1-c084311684a7",
   "metadata": {},
   "outputs": [
    {
     "data": {
      "text/plain": [
       "[(32900, 'Škoda'),\n",
       " (32500, 'BMW'),\n",
       " (7900, 'Fiat'),\n",
       " (39990, 'Kia'),\n",
       " (42900, 'Kia'),\n",
       " (19400, 'BMW')]"
      ]
     },
     "execution_count": 54,
     "metadata": {},
     "output_type": "execute_result"
    }
   ],
   "source": [
    "session.query(CarsTable.price, CarsTable.brand).all()"
   ]
  },
  {
   "cell_type": "code",
   "execution_count": 61,
   "id": "b76f27b4-adfa-44fc-abce-40a118331656",
   "metadata": {},
   "outputs": [],
   "source": [
    "from sqlalchemy import desc, gre"
   ]
  },
  {
   "cell_type": "code",
   "execution_count": 58,
   "id": "1593396a-aa7f-47bc-a241-a5b356cbed18",
   "metadata": {},
   "outputs": [
    {
     "data": {
      "text/plain": [
       "[Cars(id=6), Cars(id=2), Cars(id=1), Cars(id=4), Cars(id=5), Cars(id=3)]"
      ]
     },
     "execution_count": 58,
     "metadata": {},
     "output_type": "execute_result"
    }
   ],
   "source": [
    "session.query(CarsTable).order_by(desc(CarsTable.power)).all()"
   ]
  },
  {
   "cell_type": "code",
   "execution_count": 62,
   "id": "0743ecb8-0e44-490f-99aa-d1fbabba1dac",
   "metadata": {},
   "outputs": [
    {
     "data": {
      "text/plain": [
       "[Cars(id=1), Cars(id=2), Cars(id=3), Cars(id=4), Cars(id=5)]"
      ]
     },
     "execution_count": 62,
     "metadata": {},
     "output_type": "execute_result"
    }
   ],
   "source": [
    "session.query(CarsTable).filter(CarsTable.prod_year > 2010).all()"
   ]
  },
  {
   "cell_type": "code",
   "execution_count": null,
   "id": "e5e8d6be-de98-416e-94a2-3d4bf57b4669",
   "metadata": {},
   "outputs": [],
   "source": []
  }
 ],
 "metadata": {
  "kernelspec": {
   "display_name": "Python 3 (ipykernel)",
   "language": "python",
   "name": "python3"
  },
  "language_info": {
   "codemirror_mode": {
    "name": "ipython",
    "version": 3
   },
   "file_extension": ".py",
   "mimetype": "text/x-python",
   "name": "python",
   "nbconvert_exporter": "python",
   "pygments_lexer": "ipython3",
   "version": "3.11.5"
  }
 },
 "nbformat": 4,
 "nbformat_minor": 5
}
