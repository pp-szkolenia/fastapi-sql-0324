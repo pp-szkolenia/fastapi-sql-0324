{
 "cells": [
  {
   "cell_type": "code",
   "execution_count": 1,
   "id": "aa555ac4-2939-4368-ab96-b972f3680947",
   "metadata": {},
   "outputs": [],
   "source": [
    "from sqlalchemy import Column, Integer, Boolean, VARCHAR\n",
    "from sqlalchemy.sql.expression import false\n",
    "from sqlalchemy import create_engine\n",
    "from sqlalchemy.orm import sessionmaker, declarative_base"
   ]
  },
  {
   "cell_type": "code",
   "execution_count": 2,
   "id": "9633e319-e29a-4694-8eeb-87461b02d3ce",
   "metadata": {},
   "outputs": [],
   "source": [
    "user = \"postgres\"\n",
    "password = \"postgres\"\n",
    "host = \"localhost\"\n",
    "port = \"5432\"\n",
    "database = \"postgres\""
   ]
  },
  {
   "cell_type": "code",
   "execution_count": 3,
   "id": "afb20bd4-a11b-4fd1-bb86-57c615d872b8",
   "metadata": {},
   "outputs": [],
   "source": [
    "Base = declarative_base()\n",
    "connection_string = f\"postgresql://{user}:{password}@{host}:{port}/{database}\""
   ]
  },
  {
   "cell_type": "code",
   "execution_count": 4,
   "id": "a8182d5a-d0b4-4749-b4e0-01da23faaa06",
   "metadata": {},
   "outputs": [],
   "source": [
    "engine = create_engine(connection_string)"
   ]
  },
  {
   "cell_type": "code",
   "execution_count": 5,
   "id": "3ac3cfed-9160-4547-b100-5163c3fb3758",
   "metadata": {},
   "outputs": [],
   "source": [
    "Session = sessionmaker(bind=engine)"
   ]
  },
  {
   "cell_type": "code",
   "execution_count": 6,
   "id": "906ad4d1-9475-4596-b6a8-3f315adf3374",
   "metadata": {},
   "outputs": [],
   "source": [
    "session = Session()"
   ]
  },
  {
   "cell_type": "code",
   "execution_count": 10,
   "id": "5b72af51-739c-4e04-9403-454f9487c52f",
   "metadata": {},
   "outputs": [],
   "source": [
    "class MyClass:\n",
    "    attr = 1\n",
    "    def __repr__(self):\n",
    "        return \"reprezentacja\""
   ]
  },
  {
   "cell_type": "code",
   "execution_count": 11,
   "id": "d12f0827-5e30-4c4a-aea6-1dbea05ffbcd",
   "metadata": {},
   "outputs": [
    {
     "data": {
      "text/plain": [
       "reprezentacja"
      ]
     },
     "execution_count": 11,
     "metadata": {},
     "output_type": "execute_result"
    }
   ],
   "source": [
    "MyClass()"
   ]
  },
  {
   "cell_type": "code",
   "execution_count": 68,
   "id": "0b68e25d-5067-4381-96e5-2165d1396e73",
   "metadata": {},
   "outputs": [
    {
     "name": "stderr",
     "output_type": "stream",
     "text": [
      "/tmp/ipykernel_2591759/1864107276.py:1: SAWarning: This declarative base already contains a class with the same class name and module name as __main__.TaskTable, and will be replaced in the string-lookup table.\n",
      "  class TaskTable(Base):\n"
     ]
    },
    {
     "ename": "InvalidRequestError",
     "evalue": "Table 'tasks' is already defined for this MetaData instance.  Specify 'extend_existing=True' to redefine options and columns on an existing Table object.",
     "output_type": "error",
     "traceback": [
      "\u001b[0;31m---------------------------------------------------------------------------\u001b[0m",
      "\u001b[0;31mInvalidRequestError\u001b[0m                       Traceback (most recent call last)",
      "Cell \u001b[0;32mIn[68], line 1\u001b[0m\n\u001b[0;32m----> 1\u001b[0m \u001b[38;5;28;01mclass\u001b[39;00m \u001b[38;5;21;01mTaskTable\u001b[39;00m(Base):\n\u001b[1;32m      2\u001b[0m     __tablename__ \u001b[38;5;241m=\u001b[39m \u001b[38;5;124m\"\u001b[39m\u001b[38;5;124mtasks\u001b[39m\u001b[38;5;124m\"\u001b[39m\n\u001b[1;32m      4\u001b[0m     id_number \u001b[38;5;241m=\u001b[39m Column(\u001b[38;5;124m\"\u001b[39m\u001b[38;5;124mid\u001b[39m\u001b[38;5;124m\"\u001b[39m, Integer, primary_key\u001b[38;5;241m=\u001b[39m\u001b[38;5;28;01mTrue\u001b[39;00m)\n",
      "File \u001b[0;32m~/anaconda3/lib/python3.11/site-packages/sqlalchemy/orm/decl_api.py:196\u001b[0m, in \u001b[0;36mDeclarativeMeta.__init__\u001b[0;34m(cls, classname, bases, dict_, **kw)\u001b[0m\n\u001b[1;32m    193\u001b[0m         \u001b[38;5;28mcls\u001b[39m\u001b[38;5;241m.\u001b[39m_sa_registry \u001b[38;5;241m=\u001b[39m reg\n\u001b[1;32m    195\u001b[0m \u001b[38;5;28;01mif\u001b[39;00m \u001b[38;5;129;01mnot\u001b[39;00m \u001b[38;5;28mcls\u001b[39m\u001b[38;5;241m.\u001b[39m\u001b[38;5;18m__dict__\u001b[39m\u001b[38;5;241m.\u001b[39mget(\u001b[38;5;124m\"\u001b[39m\u001b[38;5;124m__abstract__\u001b[39m\u001b[38;5;124m\"\u001b[39m, \u001b[38;5;28;01mFalse\u001b[39;00m):\n\u001b[0;32m--> 196\u001b[0m     _as_declarative(reg, \u001b[38;5;28mcls\u001b[39m, dict_)\n\u001b[1;32m    197\u001b[0m \u001b[38;5;28mtype\u001b[39m\u001b[38;5;241m.\u001b[39m\u001b[38;5;21m__init__\u001b[39m(\u001b[38;5;28mcls\u001b[39m, classname, bases, dict_)\n",
      "File \u001b[0;32m~/anaconda3/lib/python3.11/site-packages/sqlalchemy/orm/decl_base.py:247\u001b[0m, in \u001b[0;36m_as_declarative\u001b[0;34m(registry, cls, dict_)\u001b[0m\n\u001b[1;32m    242\u001b[0m \u001b[38;5;28;01mdef\u001b[39;00m \u001b[38;5;21m_as_declarative\u001b[39m(\n\u001b[1;32m    243\u001b[0m     registry: _RegistryType, \u001b[38;5;28mcls\u001b[39m: Type[Any], dict_: _ClassDict\n\u001b[1;32m    244\u001b[0m ) \u001b[38;5;241m-\u001b[39m\u001b[38;5;241m>\u001b[39m Optional[_MapperConfig]:\n\u001b[1;32m    245\u001b[0m     \u001b[38;5;66;03m# declarative scans the class for attributes.  no table or mapper\u001b[39;00m\n\u001b[1;32m    246\u001b[0m     \u001b[38;5;66;03m# args passed separately.\u001b[39;00m\n\u001b[0;32m--> 247\u001b[0m     \u001b[38;5;28;01mreturn\u001b[39;00m _MapperConfig\u001b[38;5;241m.\u001b[39msetup_mapping(registry, \u001b[38;5;28mcls\u001b[39m, dict_, \u001b[38;5;28;01mNone\u001b[39;00m, {})\n",
      "File \u001b[0;32m~/anaconda3/lib/python3.11/site-packages/sqlalchemy/orm/decl_base.py:328\u001b[0m, in \u001b[0;36m_MapperConfig.setup_mapping\u001b[0;34m(cls, registry, cls_, dict_, table, mapper_kw)\u001b[0m\n\u001b[1;32m    324\u001b[0m     \u001b[38;5;28;01mreturn\u001b[39;00m _DeferredMapperConfig(\n\u001b[1;32m    325\u001b[0m         registry, cls_, dict_, table, mapper_kw\n\u001b[1;32m    326\u001b[0m     )\n\u001b[1;32m    327\u001b[0m \u001b[38;5;28;01melse\u001b[39;00m:\n\u001b[0;32m--> 328\u001b[0m     \u001b[38;5;28;01mreturn\u001b[39;00m _ClassScanMapperConfig(\n\u001b[1;32m    329\u001b[0m         registry, cls_, dict_, table, mapper_kw\n\u001b[1;32m    330\u001b[0m     )\n",
      "File \u001b[0;32m~/anaconda3/lib/python3.11/site-packages/sqlalchemy/orm/decl_base.py:578\u001b[0m, in \u001b[0;36m_ClassScanMapperConfig.__init__\u001b[0;34m(self, registry, cls_, dict_, table, mapper_kw)\u001b[0m\n\u001b[1;32m    574\u001b[0m \u001b[38;5;28mself\u001b[39m\u001b[38;5;241m.\u001b[39m_extract_mappable_attributes()\n\u001b[1;32m    576\u001b[0m \u001b[38;5;28mself\u001b[39m\u001b[38;5;241m.\u001b[39m_extract_declared_columns()\n\u001b[0;32m--> 578\u001b[0m \u001b[38;5;28mself\u001b[39m\u001b[38;5;241m.\u001b[39m_setup_table(table)\n\u001b[1;32m    580\u001b[0m \u001b[38;5;28mself\u001b[39m\u001b[38;5;241m.\u001b[39m_setup_inheriting_columns(mapper_kw)\n\u001b[1;32m    582\u001b[0m \u001b[38;5;28mself\u001b[39m\u001b[38;5;241m.\u001b[39m_early_mapping(mapper_kw)\n",
      "File \u001b[0;32m~/anaconda3/lib/python3.11/site-packages/sqlalchemy/orm/decl_base.py:1729\u001b[0m, in \u001b[0;36m_ClassScanMapperConfig._setup_table\u001b[0;34m(self, table)\u001b[0m\n\u001b[1;32m   1721\u001b[0m             table_kw[\u001b[38;5;124m\"\u001b[39m\u001b[38;5;124mautoload\u001b[39m\u001b[38;5;124m\"\u001b[39m] \u001b[38;5;241m=\u001b[39m \u001b[38;5;28;01mTrue\u001b[39;00m\n\u001b[1;32m   1723\u001b[0m         sorted_columns \u001b[38;5;241m=\u001b[39m \u001b[38;5;28msorted\u001b[39m(\n\u001b[1;32m   1724\u001b[0m             declared_columns,\n\u001b[1;32m   1725\u001b[0m             key\u001b[38;5;241m=\u001b[39m\u001b[38;5;28;01mlambda\u001b[39;00m c: column_ordering\u001b[38;5;241m.\u001b[39mget(c, \u001b[38;5;241m0\u001b[39m),\n\u001b[1;32m   1726\u001b[0m         )\n\u001b[1;32m   1727\u001b[0m         table \u001b[38;5;241m=\u001b[39m \u001b[38;5;28mself\u001b[39m\u001b[38;5;241m.\u001b[39mset_cls_attribute(\n\u001b[1;32m   1728\u001b[0m             \u001b[38;5;124m\"\u001b[39m\u001b[38;5;124m__table__\u001b[39m\u001b[38;5;124m\"\u001b[39m,\n\u001b[0;32m-> 1729\u001b[0m             table_cls(\n\u001b[1;32m   1730\u001b[0m                 tablename,\n\u001b[1;32m   1731\u001b[0m                 \u001b[38;5;28mself\u001b[39m\u001b[38;5;241m.\u001b[39m_metadata_for_cls(manager),\n\u001b[1;32m   1732\u001b[0m                 \u001b[38;5;241m*\u001b[39msorted_columns,\n\u001b[1;32m   1733\u001b[0m                 \u001b[38;5;241m*\u001b[39margs,\n\u001b[1;32m   1734\u001b[0m                 \u001b[38;5;241m*\u001b[39m\u001b[38;5;241m*\u001b[39mtable_kw,\n\u001b[1;32m   1735\u001b[0m             ),\n\u001b[1;32m   1736\u001b[0m         )\n\u001b[1;32m   1737\u001b[0m \u001b[38;5;28;01melse\u001b[39;00m:\n\u001b[1;32m   1738\u001b[0m     \u001b[38;5;28;01mif\u001b[39;00m table \u001b[38;5;129;01mis\u001b[39;00m \u001b[38;5;28;01mNone\u001b[39;00m:\n",
      "File \u001b[0;32m<string>:2\u001b[0m, in \u001b[0;36m__new__\u001b[0;34m(cls, *args, **kw)\u001b[0m\n",
      "File \u001b[0;32m~/anaconda3/lib/python3.11/site-packages/sqlalchemy/util/deprecations.py:281\u001b[0m, in \u001b[0;36mdeprecated_params.<locals>.decorate.<locals>.warned\u001b[0;34m(fn, *args, **kwargs)\u001b[0m\n\u001b[1;32m    274\u001b[0m     \u001b[38;5;28;01mif\u001b[39;00m m \u001b[38;5;129;01min\u001b[39;00m kwargs:\n\u001b[1;32m    275\u001b[0m         _warn_with_version(\n\u001b[1;32m    276\u001b[0m             messages[m],\n\u001b[1;32m    277\u001b[0m             versions[m],\n\u001b[1;32m    278\u001b[0m             version_warnings[m],\n\u001b[1;32m    279\u001b[0m             stacklevel\u001b[38;5;241m=\u001b[39m\u001b[38;5;241m3\u001b[39m,\n\u001b[1;32m    280\u001b[0m         )\n\u001b[0;32m--> 281\u001b[0m \u001b[38;5;28;01mreturn\u001b[39;00m fn(\u001b[38;5;241m*\u001b[39margs, \u001b[38;5;241m*\u001b[39m\u001b[38;5;241m*\u001b[39mkwargs)\n",
      "File \u001b[0;32m~/anaconda3/lib/python3.11/site-packages/sqlalchemy/sql/schema.py:436\u001b[0m, in \u001b[0;36mTable.__new__\u001b[0;34m(cls, *args, **kw)\u001b[0m\n\u001b[1;32m    429\u001b[0m \u001b[38;5;129m@util\u001b[39m\u001b[38;5;241m.\u001b[39mdeprecated_params(\n\u001b[1;32m    430\u001b[0m     mustexist\u001b[38;5;241m=\u001b[39m(\n\u001b[1;32m    431\u001b[0m         \u001b[38;5;124m\"\u001b[39m\u001b[38;5;124m1.4\u001b[39m\u001b[38;5;124m\"\u001b[39m,\n\u001b[0;32m   (...)\u001b[0m\n\u001b[1;32m    434\u001b[0m )\n\u001b[1;32m    435\u001b[0m \u001b[38;5;28;01mdef\u001b[39;00m \u001b[38;5;21m__new__\u001b[39m(\u001b[38;5;28mcls\u001b[39m, \u001b[38;5;241m*\u001b[39margs: Any, \u001b[38;5;241m*\u001b[39m\u001b[38;5;241m*\u001b[39mkw: Any) \u001b[38;5;241m-\u001b[39m\u001b[38;5;241m>\u001b[39m Any:\n\u001b[0;32m--> 436\u001b[0m     \u001b[38;5;28;01mreturn\u001b[39;00m \u001b[38;5;28mcls\u001b[39m\u001b[38;5;241m.\u001b[39m_new(\u001b[38;5;241m*\u001b[39margs, \u001b[38;5;241m*\u001b[39m\u001b[38;5;241m*\u001b[39mkw)\n",
      "File \u001b[0;32m~/anaconda3/lib/python3.11/site-packages/sqlalchemy/sql/schema.py:468\u001b[0m, in \u001b[0;36mTable._new\u001b[0;34m(cls, *args, **kw)\u001b[0m\n\u001b[1;32m    466\u001b[0m \u001b[38;5;28;01mif\u001b[39;00m key \u001b[38;5;129;01min\u001b[39;00m metadata\u001b[38;5;241m.\u001b[39mtables:\n\u001b[1;32m    467\u001b[0m     \u001b[38;5;28;01mif\u001b[39;00m \u001b[38;5;129;01mnot\u001b[39;00m keep_existing \u001b[38;5;129;01mand\u001b[39;00m \u001b[38;5;129;01mnot\u001b[39;00m extend_existing \u001b[38;5;129;01mand\u001b[39;00m \u001b[38;5;28mbool\u001b[39m(args):\n\u001b[0;32m--> 468\u001b[0m         \u001b[38;5;28;01mraise\u001b[39;00m exc\u001b[38;5;241m.\u001b[39mInvalidRequestError(\n\u001b[1;32m    469\u001b[0m             \u001b[38;5;124mf\u001b[39m\u001b[38;5;124m\"\u001b[39m\u001b[38;5;124mTable \u001b[39m\u001b[38;5;124m'\u001b[39m\u001b[38;5;132;01m{\u001b[39;00mkey\u001b[38;5;132;01m}\u001b[39;00m\u001b[38;5;124m'\u001b[39m\u001b[38;5;124m is already defined for this MetaData \u001b[39m\u001b[38;5;124m\"\u001b[39m\n\u001b[1;32m    470\u001b[0m             \u001b[38;5;124m\"\u001b[39m\u001b[38;5;124minstance.  Specify \u001b[39m\u001b[38;5;124m'\u001b[39m\u001b[38;5;124mextend_existing=True\u001b[39m\u001b[38;5;124m'\u001b[39m\u001b[38;5;124m \u001b[39m\u001b[38;5;124m\"\u001b[39m\n\u001b[1;32m    471\u001b[0m             \u001b[38;5;124m\"\u001b[39m\u001b[38;5;124mto redefine \u001b[39m\u001b[38;5;124m\"\u001b[39m\n\u001b[1;32m    472\u001b[0m             \u001b[38;5;124m\"\u001b[39m\u001b[38;5;124moptions and columns on an \u001b[39m\u001b[38;5;124m\"\u001b[39m\n\u001b[1;32m    473\u001b[0m             \u001b[38;5;124m\"\u001b[39m\u001b[38;5;124mexisting Table object.\u001b[39m\u001b[38;5;124m\"\u001b[39m\n\u001b[1;32m    474\u001b[0m         )\n\u001b[1;32m    475\u001b[0m     table \u001b[38;5;241m=\u001b[39m metadata\u001b[38;5;241m.\u001b[39mtables[key]\n\u001b[1;32m    476\u001b[0m     \u001b[38;5;28;01mif\u001b[39;00m extend_existing:\n",
      "\u001b[0;31mInvalidRequestError\u001b[0m: Table 'tasks' is already defined for this MetaData instance.  Specify 'extend_existing=True' to redefine options and columns on an existing Table object."
     ]
    }
   ],
   "source": [
    "class TaskTable(Base):\n",
    "    __tablename__ = \"tasks\"\n",
    "\n",
    "    id_number = Column(\"id\", Integer, primary_key=True)\n",
    "    description = Column(\"description\", VARCHAR(30), nullable=False)\n",
    "    priority = Column(\"priority\", Integer)\n",
    "    is_complete = Column(\"is_complete\", Boolean, server_default=false())\n",
    "\n",
    "    def __repr__(self):\n",
    "        return f\"Task(id={self.id_number})\""
   ]
  },
  {
   "cell_type": "code",
   "execution_count": 69,
   "id": "9f866f7e-5838-4772-817b-b0863f994d49",
   "metadata": {},
   "outputs": [],
   "source": [
    "Base.metadata.create_all(bind=engine)"
   ]
  },
  {
   "cell_type": "markdown",
   "id": "8f575a60-f588-4301-8871-6e6b1fe662ed",
   "metadata": {},
   "source": [
    "---"
   ]
  },
  {
   "cell_type": "code",
   "execution_count": 34,
   "id": "5ee4a726-fe0f-448f-b94d-4e837da7efe7",
   "metadata": {},
   "outputs": [],
   "source": [
    "description = \"Task 2\"\n",
    "priority = 4"
   ]
  },
  {
   "cell_type": "code",
   "execution_count": 35,
   "id": "ade2a3a0-a187-49a1-a56e-84937b081808",
   "metadata": {},
   "outputs": [],
   "source": [
    "task = TaskTable(description=description, priority=priority)"
   ]
  },
  {
   "cell_type": "code",
   "execution_count": 36,
   "id": "42ba5626-ce3a-4ab3-adfc-f44623f6e5a8",
   "metadata": {},
   "outputs": [
    {
     "data": {
      "text/plain": [
       "Task(id=None)"
      ]
     },
     "execution_count": 36,
     "metadata": {},
     "output_type": "execute_result"
    }
   ],
   "source": [
    "task"
   ]
  },
  {
   "cell_type": "code",
   "execution_count": 37,
   "id": "e5b4b28e-c8fa-44b7-82df-854f9735f337",
   "metadata": {},
   "outputs": [],
   "source": [
    "session.add(task)"
   ]
  },
  {
   "cell_type": "code",
   "execution_count": 38,
   "id": "7f4c0e7f-96ce-45c4-8e5b-a64fcc23e336",
   "metadata": {},
   "outputs": [],
   "source": [
    "session.commit()"
   ]
  },
  {
   "cell_type": "code",
   "execution_count": 15,
   "id": "701fb129-5fb1-4b15-b3e2-cef99d73eae1",
   "metadata": {},
   "outputs": [
    {
     "data": {
      "text/plain": [
       "Task(id=1)"
      ]
     },
     "execution_count": 15,
     "metadata": {},
     "output_type": "execute_result"
    }
   ],
   "source": [
    "task"
   ]
  },
  {
   "cell_type": "markdown",
   "id": "3144c400-687f-4c25-8166-6b730f25475f",
   "metadata": {},
   "source": [
    "### SELECT"
   ]
  },
  {
   "cell_type": "markdown",
   "id": "bafb6a09-e436-4c75-8fe3-f9b3f1b30398",
   "metadata": {},
   "source": [
    "#### All data"
   ]
  },
  {
   "cell_type": "code",
   "execution_count": 41,
   "id": "3e8c8a10-b20d-40ad-ab31-1ea1938d084f",
   "metadata": {},
   "outputs": [],
   "source": [
    "results = session.query(TaskTable).all()"
   ]
  },
  {
   "cell_type": "markdown",
   "id": "08e4bbfa-03f2-4816-8265-bc74281425f0",
   "metadata": {},
   "source": [
    "#### One row"
   ]
  },
  {
   "cell_type": "code",
   "execution_count": 50,
   "id": "adc27140-b2c2-4b14-937d-beb97cff0fb1",
   "metadata": {},
   "outputs": [
    {
     "data": {
      "text/plain": [
       "Task(id=1)"
      ]
     },
     "execution_count": 50,
     "metadata": {},
     "output_type": "execute_result"
    }
   ],
   "source": [
    "session.query(TaskTable).first()"
   ]
  },
  {
   "cell_type": "markdown",
   "id": "ba2172c1-6d2c-4d1e-9ccf-8110bd87be71",
   "metadata": {},
   "source": [
    "#### Select columns"
   ]
  },
  {
   "cell_type": "code",
   "execution_count": 52,
   "id": "0c16c76a-20ad-49a3-84a5-beb2576aab46",
   "metadata": {},
   "outputs": [
    {
     "data": {
      "text/plain": [
       "[('Task description', True),\n",
       " ('Task description', True),\n",
       " ('Task description', True),\n",
       " ('Task 1', False),\n",
       " ('Task 2', False)]"
      ]
     },
     "execution_count": 52,
     "metadata": {},
     "output_type": "execute_result"
    }
   ],
   "source": [
    "session.query(TaskTable.description, TaskTable.is_complete).all()"
   ]
  },
  {
   "cell_type": "markdown",
   "id": "b2278ad1-2bf3-43fc-8e1d-44ca86c8f442",
   "metadata": {},
   "source": [
    "#### Filter (where)"
   ]
  },
  {
   "cell_type": "code",
   "execution_count": 56,
   "id": "56e6ae3b-b800-4058-8f58-879208e20dde",
   "metadata": {},
   "outputs": [
    {
     "data": {
      "text/plain": [
       "[Task(id=2)]"
      ]
     },
     "execution_count": 56,
     "metadata": {},
     "output_type": "execute_result"
    }
   ],
   "source": [
    "session.query(TaskTable).filter_by(id_number=2).all()"
   ]
  },
  {
   "cell_type": "code",
   "execution_count": 63,
   "id": "a7266656-75c9-46fe-a442-38dfc4936569",
   "metadata": {},
   "outputs": [],
   "source": [
    "from sqlalchemy import between, and_, or_"
   ]
  },
  {
   "cell_type": "code",
   "execution_count": 67,
   "id": "6684fa67-eff5-4d91-bb70-1a68fc44373b",
   "metadata": {},
   "outputs": [
    {
     "data": {
      "text/plain": [
       "[('Task description',),\n",
       " ('Task description',),\n",
       " ('Task description',),\n",
       " ('Task 1',),\n",
       " ('Task 2',)]"
      ]
     },
     "execution_count": 67,
     "metadata": {},
     "output_type": "execute_result"
    }
   ],
   "source": [
    "session.query(TaskTable.description).filter(or_(between(TaskTable.priority, 2, 3), between(TaskTable.id_number, 4, 5))).all()"
   ]
  },
  {
   "cell_type": "code",
   "execution_count": null,
   "id": "a82a5c8f-250e-4d2e-91b6-e088d7c5ed05",
   "metadata": {},
   "outputs": [],
   "source": []
  },
  {
   "cell_type": "code",
   "execution_count": null,
   "id": "942b403c-f3b5-43b0-880f-8734a1755f26",
   "metadata": {},
   "outputs": [],
   "source": []
  }
 ],
 "metadata": {
  "kernelspec": {
   "display_name": "Python 3 (ipykernel)",
   "language": "python",
   "name": "python3"
  },
  "language_info": {
   "codemirror_mode": {
    "name": "ipython",
    "version": 3
   },
   "file_extension": ".py",
   "mimetype": "text/x-python",
   "name": "python",
   "nbconvert_exporter": "python",
   "pygments_lexer": "ipython3",
   "version": "3.11.5"
  }
 },
 "nbformat": 4,
 "nbformat_minor": 5
}
