{
 "cells": [
  {
   "cell_type": "markdown",
   "id": "a23b5068-59d9-4e71-aaa8-85dfd069ca2a",
   "metadata": {},
   "source": [
    "## CREATE"
   ]
  },
  {
   "cell_type": "code",
   "execution_count": 79,
   "id": "788f0011-af38-4eed-8f0c-e8d3b1eb5f1f",
   "metadata": {
    "tags": []
   },
   "outputs": [],
   "source": [
    "from sqlalchemy import Column, Integer, Boolean, VARCHAR\n",
    "from sqlalchemy.sql.expression import false\n",
    "from sqlalchemy import create_engine\n",
    "from sqlalchemy.orm import sessionmaker, declarative_base\n",
    "\n",
    "\n",
    "user = \"postgres\"\n",
    "password = \"postgres\"\n",
    "host = \"localhost\"\n",
    "port = \"5432\"\n",
    "database = \"postgres\"\n",
    "\n",
    "Base = declarative_base()\n",
    "connection_string = f\"postgresql://{user}:{password}@{host}:{port}/{database}\"\n",
    "engine = create_engine(connection_string)\n",
    "Session = sessionmaker(bind=engine)\n",
    "\n",
    "\n",
    "class TaskTable(Base):\n",
    "    __tablename__ = \"tasks\"\n",
    "\n",
    "    id_number = Column(\"id\", Integer, primary_key=True)  # auto-increment included\n",
    "    description = Column(\"description\", VARCHAR(30), nullable=False)\n",
    "    priority = Column(\"priority\", Integer)\n",
    "    is_complete = Column(\"is_complete\", Boolean, nullable=False, server_default=false())\n",
    "    \n",
    "    def __repr__(self):\n",
    "        return f\"Task(id={self.id_number})\"\n",
    "\n",
    "\n",
    "    \n",
    "class UserTable(Base):\n",
    "    __tablename__ = \"users\"\n",
    "\n",
    "    id_number = Column(\"id\", Integer, primary_key=True)\n",
    "    username = Column(\"username\", VARCHAR(20), nullable=False)\n",
    "    password = Column(\"password\", VARCHAR(30), nullable=False)\n",
    "    is_admin = Column(\"is_admin\", Boolean, nullable=False, server_default=false())\n",
    "    \n",
    "    def __repr__(self):\n",
    "        return f\"User(id={self.id_number})\""
   ]
  },
  {
   "cell_type": "code",
   "execution_count": 80,
   "id": "4a93bb8c-a8de-4cc3-a0cd-17d4d0e74439",
   "metadata": {
    "tags": []
   },
   "outputs": [],
   "source": [
    "Base.metadata.create_all(bind=engine)"
   ]
  },
  {
   "cell_type": "markdown",
   "id": "b5731f4b-3727-4f8f-a473-460ecf643ce8",
   "metadata": {},
   "source": [
    "## INSERT"
   ]
  },
  {
   "cell_type": "code",
   "execution_count": 81,
   "id": "fe0f2411-ec3a-426d-838e-ae5452bef094",
   "metadata": {
    "tags": []
   },
   "outputs": [],
   "source": [
    "description = \"Task description123\"\n",
    "priority = 2\n",
    "is_complete = True\n",
    "\n",
    "task = TaskTable(description=description, priority=priority, is_complete=is_complete)"
   ]
  },
  {
   "cell_type": "code",
   "execution_count": 82,
   "id": "550eccf4-ab7b-4ace-88d9-74660f5d3cc2",
   "metadata": {},
   "outputs": [],
   "source": [
    "session = Session()"
   ]
  },
  {
   "cell_type": "code",
   "execution_count": 83,
   "id": "01a8d713-dc74-4f59-85c1-448aca2e82a6",
   "metadata": {
    "tags": []
   },
   "outputs": [],
   "source": [
    "session.add(task)"
   ]
  },
  {
   "cell_type": "code",
   "execution_count": 84,
   "id": "4bcaed51-454e-45f6-999b-c92fc94b0d67",
   "metadata": {
    "tags": []
   },
   "outputs": [],
   "source": [
    "session.commit()"
   ]
  },
  {
   "cell_type": "markdown",
   "id": "d81b791c-e90c-4612-9b79-67762f9b90dd",
   "metadata": {},
   "source": [
    "## SELECT"
   ]
  },
  {
   "cell_type": "markdown",
   "id": "29541379-a1ae-4c50-925b-cf518cf78599",
   "metadata": {},
   "source": [
    "### All data"
   ]
  },
  {
   "cell_type": "code",
   "execution_count": 19,
   "id": "f2319bd2-59f7-40be-870d-7101d663254f",
   "metadata": {
    "tags": []
   },
   "outputs": [
    {
     "data": {
      "text/plain": [
       "[Task(id=1), Task(id=2), Task(id=3)]"
      ]
     },
     "execution_count": 19,
     "metadata": {},
     "output_type": "execute_result"
    }
   ],
   "source": [
    "tasks_data = session.query(TaskTable).all()\n",
    "tasks_data"
   ]
  },
  {
   "cell_type": "markdown",
   "id": "4c07ee0e-1733-4b08-be64-cf65fe493b30",
   "metadata": {},
   "source": [
    "### One row"
   ]
  },
  {
   "cell_type": "code",
   "execution_count": 23,
   "id": "3595af96-d199-43c0-a781-bcbfa4733ad5",
   "metadata": {},
   "outputs": [
    {
     "data": {
      "text/plain": [
       "Task(id=1)"
      ]
     },
     "execution_count": 23,
     "metadata": {},
     "output_type": "execute_result"
    }
   ],
   "source": [
    "session.query(TaskTable).first()"
   ]
  },
  {
   "cell_type": "markdown",
   "id": "bf101fc7-b4e7-4de9-970d-e72b321083c9",
   "metadata": {},
   "source": [
    "### Select columns"
   ]
  },
  {
   "cell_type": "code",
   "execution_count": 24,
   "id": "0e438aac-9930-42d1-90c1-02457c76eed3",
   "metadata": {},
   "outputs": [
    {
     "data": {
      "text/plain": [
       "[('Task description1', 3), ('Task description12', 31)]"
      ]
     },
     "execution_count": 24,
     "metadata": {},
     "output_type": "execute_result"
    }
   ],
   "source": [
    "session.query(TaskTable.description, TaskTable.priority).filter_by(is_complete=False).all()"
   ]
  },
  {
   "cell_type": "markdown",
   "id": "4f888ba1-42e8-4438-a3e0-2e574f1de34f",
   "metadata": {},
   "source": [
    "### Filter (WHERE)"
   ]
  },
  {
   "cell_type": "code",
   "execution_count": 25,
   "id": "25954f5d-3183-4a19-9280-020623aba2a2",
   "metadata": {},
   "outputs": [],
   "source": [
    "from sqlalchemy import between"
   ]
  },
  {
   "cell_type": "code",
   "execution_count": 26,
   "id": "43128084-c324-493d-9d55-6fbbe47fa713",
   "metadata": {},
   "outputs": [
    {
     "data": {
      "text/plain": [
       "[Task(id=1), Task(id=2)]"
      ]
     },
     "execution_count": 26,
     "metadata": {},
     "output_type": "execute_result"
    }
   ],
   "source": [
    "tasks_data = session.query(TaskTable).filter_by(is_complete=False).all()\n",
    "tasks_data"
   ]
  },
  {
   "cell_type": "code",
   "execution_count": 27,
   "id": "28783ed0-7921-4a31-b7b5-42f10f12e5c2",
   "metadata": {},
   "outputs": [
    {
     "data": {
      "text/plain": [
       "[Task(id=1), Task(id=2)]"
      ]
     },
     "execution_count": 27,
     "metadata": {},
     "output_type": "execute_result"
    }
   ],
   "source": [
    "session.query(TaskTable).filter(between(TaskTable.priority, 3, 40)).all()"
   ]
  },
  {
   "cell_type": "markdown",
   "id": "015d16f9-8e29-4447-84de-92bea94e8291",
   "metadata": {},
   "source": [
    "### Sort"
   ]
  },
  {
   "cell_type": "code",
   "execution_count": 28,
   "id": "6629ed26-5504-4944-a153-360f68887e65",
   "metadata": {},
   "outputs": [],
   "source": [
    "from sqlalchemy import asc, desc"
   ]
  },
  {
   "cell_type": "code",
   "execution_count": 30,
   "id": "03442be5-8969-4705-b2d8-d2a8feea9df4",
   "metadata": {},
   "outputs": [
    {
     "data": {
      "text/plain": [
       "[Task(id=3), Task(id=1), Task(id=2)]"
      ]
     },
     "execution_count": 30,
     "metadata": {},
     "output_type": "execute_result"
    }
   ],
   "source": [
    "session.query(TaskTable).order_by(asc(TaskTable.priority)).all()"
   ]
  },
  {
   "cell_type": "code",
   "execution_count": 31,
   "id": "3042326c-f4dc-472c-a174-c6fafa012739",
   "metadata": {},
   "outputs": [
    {
     "data": {
      "text/plain": [
       "[Task(id=2), Task(id=1), Task(id=3)]"
      ]
     },
     "execution_count": 31,
     "metadata": {},
     "output_type": "execute_result"
    }
   ],
   "source": [
    "session.query(TaskTable).order_by(desc(TaskTable.priority)).all()"
   ]
  },
  {
   "cell_type": "markdown",
   "id": "5b239b03-7001-4213-a602-2ecb51769dd1",
   "metadata": {},
   "source": [
    "---"
   ]
  },
  {
   "cell_type": "code",
   "execution_count": 32,
   "id": "380fed3d-926c-473b-a30c-0239dc338b78",
   "metadata": {},
   "outputs": [],
   "source": [
    "from sqlalchemy import func"
   ]
  },
  {
   "cell_type": "code",
   "execution_count": 37,
   "id": "e9cb1035-3c80-416e-8264-ae138809ac6b",
   "metadata": {},
   "outputs": [
    {
     "data": {
      "text/plain": [
       "[Task(id=3), Task(id=2), Task(id=1)]"
      ]
     },
     "execution_count": 37,
     "metadata": {},
     "output_type": "execute_result"
    }
   ],
   "source": [
    "session.query(TaskTable).order_by(desc(func.length(TaskTable.description))).all()"
   ]
  },
  {
   "cell_type": "code",
   "execution_count": 38,
   "id": "e28165e9-4ba6-4e93-8b7e-b86fb04420e0",
   "metadata": {},
   "outputs": [
    {
     "data": {
      "text/plain": [
       "[Task(id=1), Task(id=2), Task(id=3)]"
      ]
     },
     "execution_count": 38,
     "metadata": {},
     "output_type": "execute_result"
    }
   ],
   "source": [
    "session.query(TaskTable).order_by(asc(func.length(TaskTable.description))).all()"
   ]
  },
  {
   "cell_type": "markdown",
   "id": "ae71a872-691c-44b2-a78e-30419792ec5d",
   "metadata": {},
   "source": [
    "### Groupby"
   ]
  },
  {
   "cell_type": "code",
   "execution_count": 55,
   "id": "4d942f13-1911-4cd7-bba5-8c5dbe3ddef6",
   "metadata": {},
   "outputs": [
    {
     "data": {
      "text/plain": [
       "[(False, 2), (True, 1)]"
      ]
     },
     "execution_count": 55,
     "metadata": {},
     "output_type": "execute_result"
    }
   ],
   "source": [
    "session.query(TaskTable.is_complete, func.count(TaskTable.id_number)).group_by(TaskTable.is_complete).all()"
   ]
  },
  {
   "cell_type": "code",
   "execution_count": 56,
   "id": "8f72188c-a199-44b3-bae2-48478d051eea",
   "metadata": {},
   "outputs": [
    {
     "data": {
      "text/plain": [
       "[(False, Decimal('17.0000000000000000')),\n",
       " (True, Decimal('2.0000000000000000'))]"
      ]
     },
     "execution_count": 56,
     "metadata": {},
     "output_type": "execute_result"
    }
   ],
   "source": [
    "session.query(TaskTable.is_complete, func.avg(TaskTable.priority)).group_by(TaskTable.is_complete).all()"
   ]
  },
  {
   "cell_type": "markdown",
   "id": "47a41604-124d-4a4d-afb4-7d2fff899c4f",
   "metadata": {},
   "source": [
    "## UPDATE"
   ]
  },
  {
   "cell_type": "code",
   "execution_count": 61,
   "id": "18ae376a-3522-455e-ac5a-7f9011cdffec",
   "metadata": {},
   "outputs": [
    {
     "data": {
      "text/plain": [
       "Task(id=2)"
      ]
     },
     "execution_count": 61,
     "metadata": {},
     "output_type": "execute_result"
    }
   ],
   "source": [
    "record_to_update = session.query(TaskTable).filter(TaskTable.id_number == 2).one()  # one() instead of first() if only one result expected\n",
    "record_to_update"
   ]
  },
  {
   "cell_type": "code",
   "execution_count": 62,
   "id": "3a2c2ec7-f259-4e1b-9e80-ed9b2976fe18",
   "metadata": {},
   "outputs": [],
   "source": [
    "record_to_update.is_complete = True"
   ]
  },
  {
   "cell_type": "code",
   "execution_count": 63,
   "id": "81553b5e-de34-48ad-ad50-897047f1481f",
   "metadata": {},
   "outputs": [],
   "source": [
    "session.commit()"
   ]
  },
  {
   "cell_type": "markdown",
   "id": "e2cd9bab-ea24-4564-8e52-c5c9ff76e3e2",
   "metadata": {},
   "source": [
    "### DELETE"
   ]
  },
  {
   "cell_type": "code",
   "execution_count": 64,
   "id": "3e01bfd3-88a7-4736-b3d3-52acbff0cc07",
   "metadata": {},
   "outputs": [
    {
     "data": {
      "text/plain": [
       "Task(id=2)"
      ]
     },
     "execution_count": 64,
     "metadata": {},
     "output_type": "execute_result"
    }
   ],
   "source": [
    "record_to_delete = session.query(TaskTable).filter(TaskTable.id_number == 2).one()\n",
    "record_to_delete"
   ]
  },
  {
   "cell_type": "code",
   "execution_count": 66,
   "id": "ff2f530b-420a-4580-b23d-d3382d766ab2",
   "metadata": {},
   "outputs": [],
   "source": [
    "session.delete(record_to_delete)"
   ]
  },
  {
   "cell_type": "code",
   "execution_count": 67,
   "id": "7aa8826b-67c6-43b0-abae-ab3490908303",
   "metadata": {},
   "outputs": [],
   "source": [
    "session.commit()"
   ]
  },
  {
   "cell_type": "markdown",
   "id": "37831ab7-8854-4353-98f0-09455f2f52c4",
   "metadata": {},
   "source": [
    "### DROP"
   ]
  },
  {
   "cell_type": "code",
   "execution_count": 72,
   "id": "7ae01f1b-2d21-44bc-bbb0-d8c0037930ce",
   "metadata": {},
   "outputs": [],
   "source": [
    "from sqlalchemy import Table, MetaData"
   ]
  },
  {
   "cell_type": "code",
   "execution_count": 76,
   "id": "db20821c-6eab-4257-ace1-e18bda63d891",
   "metadata": {},
   "outputs": [],
   "source": [
    "metadata = MetaData()\n",
    "table_to_drop = Table('tasks', metadata, autoload_with=engine)"
   ]
  },
  {
   "cell_type": "code",
   "execution_count": 78,
   "id": "7cd3bfcf-6992-4ace-9ad5-cd9373401f7a",
   "metadata": {},
   "outputs": [],
   "source": [
    "table_to_drop.drop(engine)"
   ]
  }
 ],
 "metadata": {
  "kernelspec": {
   "display_name": "Python 3 (ipykernel)",
   "language": "python",
   "name": "python3"
  },
  "language_info": {
   "codemirror_mode": {
    "name": "ipython",
    "version": 3
   },
   "file_extension": ".py",
   "mimetype": "text/x-python",
   "name": "python",
   "nbconvert_exporter": "python",
   "pygments_lexer": "ipython3",
   "version": "3.11.5"
  }
 },
 "nbformat": 4,
 "nbformat_minor": 5
}
